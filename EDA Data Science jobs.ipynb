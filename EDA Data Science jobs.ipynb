{
 "cells": [
  {
   "cell_type": "markdown",
   "id": "ff31ac19",
   "metadata": {},
   "source": [
    "# About the Dataset"
   ]
  },
  {
   "cell_type": "markdown",
   "id": "eb948f41",
   "metadata": {},
   "source": [
    "**work_year**: The year in which the data was recorded. This field indicates the temporal context of the data, important for understanding salary trends over time.\n",
    "\n",
    "**job_title**: The specific title of the job role, like 'Data Scientist', 'Data Engineer', or 'Data Analyst'. This column is crucial for understanding the salary distribution across various specialized roles within the data field.\n",
    "\n",
    "**job_category**: A classification of the job role into broader categories for easier analysis. This might include areas like 'Data Analysis', 'Machine Learning', 'Data Engineering', etc.\n",
    "\n",
    "**salary_currency**: The currency in which the salary is paid, such as USD, EUR, etc. This is important for currency conversion and understanding the actual value of the salary in a global context.\n",
    "\n",
    "**salary**: The annual gross salary of the role in the local currency. This raw salary figure is key for direct regional salary comparisons.\n",
    "\n",
    "**salary_in_usd**: The annual gross salary converted to United States Dollars (USD). This uniform currency conversion aids in global salary comparisons and analyses.\n",
    "\n",
    "**employee_residence**: The country of residence of the employee. This data point can be used to explore geographical salary differences and cost-of-living variations.\n",
    "\n",
    "**experience_level**: Classifies the professional experience level of the employee. Common categories might include 'Entry-level', 'Mid-level', 'Senior', and 'Executive', providing insight into how experience influences salary in data-related roles.\n",
    "\n",
    "**employment_type**: Specifies the type of employment, such as 'Full-time', 'Part-time', 'Contract', etc. This helps in analyzing how different employment arrangements affect salary structures.\n",
    "\n",
    "**work_setting**: The work setting or environment, like 'Remote', 'In-person', or 'Hybrid'. This column reflects the impact of work settings on salary levels in the data industry.\n",
    "\n",
    "**company_location**: The country where the company is located. It helps in analyzing how the location of the company affects salary structures.\n",
    "\n",
    "**company_size**: The size of the employer company, often categorized into small (S), medium (M), and large (L) sizes. This allows for analysis of how company size influences salary."
   ]
  },
  {
   "cell_type": "markdown",
   "id": "4bcf4e25",
   "metadata": {},
   "source": [
    "# Observations&Main takeaways"
   ]
  },
  {
   "cell_type": "markdown",
   "id": "194b07e0",
   "metadata": {},
   "source": [
    "Key observations are related to ***job titles, job locations, salaries, and employment types*** in the field of data science and related domains.\n",
    "\n",
    "The analysis reveals that a significant majority (86%) of the companies are located in the United States. ***The top 10 most popular job*** titles in this industry include positions such as Data Engineer, Data Scientist, Data Analyst, Machine Learning Engineer, and more.\n",
    "\n",
    "Interestingly, ***the top 10 highest-earning jobs*** are different and include roles like Analytics Engineering Manager, Data Science Tech Lead, and Head of Machine Learning, suggesting that popularity and earning potential do not always align.\n",
    "\n",
    "***The data also shows that while most positions are full-time*** , there is little salary disparity between senior and mid-level roles. Senior positions dominate the dataset, indicating a higher demand for experienced professionals in the field of data science and research.\n",
    "\n",
    "In terms of job categories, ***Data Science and Research, Data Engineering, and Machine Learning and AI are in high demand in the job market***. Furthermore, positions related to Machine Learning and AI, Data Science and Research, Data Architecture, and Modeling tend to be ***the most well-paid roles***.\n",
    "\n",
    "Finally, the analysis highlights that ***the majority of jobs (61%) are in-person***, while a significant portion (36%) can be done remotely, and a smaller percentage (2.4%) are hybrid positions, combining in-person and remote work arrangements."
   ]
  },
  {
   "cell_type": "markdown",
   "id": "21bcb935",
   "metadata": {},
   "source": [
    "# Importing and understanding the Dataset"
   ]
  },
  {
   "cell_type": "code",
   "execution_count": 83,
   "id": "64d0df27",
   "metadata": {},
   "outputs": [],
   "source": [
    "import pandas as pd\n",
    "import numpy as np\n",
    "import seaborn as sns\n",
    "import matplotlib.pylab as plt\n",
    "import plotly.express as px\n",
    "%matplotlib inline"
   ]
  },
  {
   "cell_type": "code",
   "execution_count": 84,
   "id": "57f277b3",
   "metadata": {},
   "outputs": [],
   "source": [
    "df = pd.read_csv(\"/Users/xiaoyulu/downloads/jobs_in_data.csv\")\n",
    "jobs=df"
   ]
  },
  {
   "cell_type": "code",
   "execution_count": 85,
   "id": "935c6b63",
   "metadata": {},
   "outputs": [
    {
     "name": "stdout",
     "output_type": "stream",
     "text": [
      "<class 'pandas.core.frame.DataFrame'>\n",
      "RangeIndex: 9355 entries, 0 to 9354\n",
      "Data columns (total 12 columns):\n",
      " #   Column              Non-Null Count  Dtype \n",
      "---  ------              --------------  ----- \n",
      " 0   work_year           9355 non-null   int64 \n",
      " 1   job_title           9355 non-null   object\n",
      " 2   job_category        9355 non-null   object\n",
      " 3   salary_currency     9355 non-null   object\n",
      " 4   salary              9355 non-null   int64 \n",
      " 5   salary_in_usd       9355 non-null   int64 \n",
      " 6   employee_residence  9355 non-null   object\n",
      " 7   experience_level    9355 non-null   object\n",
      " 8   employment_type     9355 non-null   object\n",
      " 9   work_setting        9355 non-null   object\n",
      " 10  company_location    9355 non-null   object\n",
      " 11  company_size        9355 non-null   object\n",
      "dtypes: int64(3), object(9)\n",
      "memory usage: 877.2+ KB\n"
     ]
    }
   ],
   "source": [
    "jobs.info()"
   ]
  },
  {
   "cell_type": "code",
   "execution_count": 86,
   "id": "bf3bf1f3",
   "metadata": {},
   "outputs": [
    {
     "data": {
      "text/html": [
       "<div>\n",
       "<style scoped>\n",
       "    .dataframe tbody tr th:only-of-type {\n",
       "        vertical-align: middle;\n",
       "    }\n",
       "\n",
       "    .dataframe tbody tr th {\n",
       "        vertical-align: top;\n",
       "    }\n",
       "\n",
       "    .dataframe thead th {\n",
       "        text-align: right;\n",
       "    }\n",
       "</style>\n",
       "<table border=\"1\" class=\"dataframe\">\n",
       "  <thead>\n",
       "    <tr style=\"text-align: right;\">\n",
       "      <th></th>\n",
       "      <th>work_year</th>\n",
       "      <th>job_title</th>\n",
       "      <th>job_category</th>\n",
       "      <th>salary_currency</th>\n",
       "      <th>salary</th>\n",
       "      <th>salary_in_usd</th>\n",
       "      <th>employee_residence</th>\n",
       "      <th>experience_level</th>\n",
       "      <th>employment_type</th>\n",
       "      <th>work_setting</th>\n",
       "      <th>company_location</th>\n",
       "      <th>company_size</th>\n",
       "    </tr>\n",
       "  </thead>\n",
       "  <tbody>\n",
       "    <tr>\n",
       "      <th>0</th>\n",
       "      <td>2023</td>\n",
       "      <td>Data DevOps Engineer</td>\n",
       "      <td>Data Engineering</td>\n",
       "      <td>EUR</td>\n",
       "      <td>88000</td>\n",
       "      <td>95012</td>\n",
       "      <td>Germany</td>\n",
       "      <td>Mid-level</td>\n",
       "      <td>Full-time</td>\n",
       "      <td>Hybrid</td>\n",
       "      <td>Germany</td>\n",
       "      <td>L</td>\n",
       "    </tr>\n",
       "    <tr>\n",
       "      <th>1</th>\n",
       "      <td>2023</td>\n",
       "      <td>Data Architect</td>\n",
       "      <td>Data Architecture and Modeling</td>\n",
       "      <td>USD</td>\n",
       "      <td>186000</td>\n",
       "      <td>186000</td>\n",
       "      <td>United States</td>\n",
       "      <td>Senior</td>\n",
       "      <td>Full-time</td>\n",
       "      <td>In-person</td>\n",
       "      <td>United States</td>\n",
       "      <td>M</td>\n",
       "    </tr>\n",
       "    <tr>\n",
       "      <th>2</th>\n",
       "      <td>2023</td>\n",
       "      <td>Data Architect</td>\n",
       "      <td>Data Architecture and Modeling</td>\n",
       "      <td>USD</td>\n",
       "      <td>81800</td>\n",
       "      <td>81800</td>\n",
       "      <td>United States</td>\n",
       "      <td>Senior</td>\n",
       "      <td>Full-time</td>\n",
       "      <td>In-person</td>\n",
       "      <td>United States</td>\n",
       "      <td>M</td>\n",
       "    </tr>\n",
       "    <tr>\n",
       "      <th>3</th>\n",
       "      <td>2023</td>\n",
       "      <td>Data Scientist</td>\n",
       "      <td>Data Science and Research</td>\n",
       "      <td>USD</td>\n",
       "      <td>212000</td>\n",
       "      <td>212000</td>\n",
       "      <td>United States</td>\n",
       "      <td>Senior</td>\n",
       "      <td>Full-time</td>\n",
       "      <td>In-person</td>\n",
       "      <td>United States</td>\n",
       "      <td>M</td>\n",
       "    </tr>\n",
       "    <tr>\n",
       "      <th>4</th>\n",
       "      <td>2023</td>\n",
       "      <td>Data Scientist</td>\n",
       "      <td>Data Science and Research</td>\n",
       "      <td>USD</td>\n",
       "      <td>93300</td>\n",
       "      <td>93300</td>\n",
       "      <td>United States</td>\n",
       "      <td>Senior</td>\n",
       "      <td>Full-time</td>\n",
       "      <td>In-person</td>\n",
       "      <td>United States</td>\n",
       "      <td>M</td>\n",
       "    </tr>\n",
       "    <tr>\n",
       "      <th>5</th>\n",
       "      <td>2023</td>\n",
       "      <td>Data Scientist</td>\n",
       "      <td>Data Science and Research</td>\n",
       "      <td>USD</td>\n",
       "      <td>130000</td>\n",
       "      <td>130000</td>\n",
       "      <td>United States</td>\n",
       "      <td>Senior</td>\n",
       "      <td>Full-time</td>\n",
       "      <td>Remote</td>\n",
       "      <td>United States</td>\n",
       "      <td>M</td>\n",
       "    </tr>\n",
       "    <tr>\n",
       "      <th>6</th>\n",
       "      <td>2023</td>\n",
       "      <td>Data Scientist</td>\n",
       "      <td>Data Science and Research</td>\n",
       "      <td>USD</td>\n",
       "      <td>100000</td>\n",
       "      <td>100000</td>\n",
       "      <td>United States</td>\n",
       "      <td>Senior</td>\n",
       "      <td>Full-time</td>\n",
       "      <td>Remote</td>\n",
       "      <td>United States</td>\n",
       "      <td>M</td>\n",
       "    </tr>\n",
       "    <tr>\n",
       "      <th>7</th>\n",
       "      <td>2023</td>\n",
       "      <td>Machine Learning Researcher</td>\n",
       "      <td>Machine Learning and AI</td>\n",
       "      <td>USD</td>\n",
       "      <td>224400</td>\n",
       "      <td>224400</td>\n",
       "      <td>United States</td>\n",
       "      <td>Mid-level</td>\n",
       "      <td>Full-time</td>\n",
       "      <td>In-person</td>\n",
       "      <td>United States</td>\n",
       "      <td>M</td>\n",
       "    </tr>\n",
       "    <tr>\n",
       "      <th>8</th>\n",
       "      <td>2023</td>\n",
       "      <td>Machine Learning Researcher</td>\n",
       "      <td>Machine Learning and AI</td>\n",
       "      <td>USD</td>\n",
       "      <td>138700</td>\n",
       "      <td>138700</td>\n",
       "      <td>United States</td>\n",
       "      <td>Mid-level</td>\n",
       "      <td>Full-time</td>\n",
       "      <td>In-person</td>\n",
       "      <td>United States</td>\n",
       "      <td>M</td>\n",
       "    </tr>\n",
       "    <tr>\n",
       "      <th>9</th>\n",
       "      <td>2023</td>\n",
       "      <td>Data Engineer</td>\n",
       "      <td>Data Engineering</td>\n",
       "      <td>USD</td>\n",
       "      <td>210000</td>\n",
       "      <td>210000</td>\n",
       "      <td>United States</td>\n",
       "      <td>Executive</td>\n",
       "      <td>Full-time</td>\n",
       "      <td>Remote</td>\n",
       "      <td>United States</td>\n",
       "      <td>M</td>\n",
       "    </tr>\n",
       "  </tbody>\n",
       "</table>\n",
       "</div>"
      ],
      "text/plain": [
       "   work_year                    job_title                    job_category  \\\n",
       "0       2023         Data DevOps Engineer                Data Engineering   \n",
       "1       2023               Data Architect  Data Architecture and Modeling   \n",
       "2       2023               Data Architect  Data Architecture and Modeling   \n",
       "3       2023               Data Scientist       Data Science and Research   \n",
       "4       2023               Data Scientist       Data Science and Research   \n",
       "5       2023               Data Scientist       Data Science and Research   \n",
       "6       2023               Data Scientist       Data Science and Research   \n",
       "7       2023  Machine Learning Researcher         Machine Learning and AI   \n",
       "8       2023  Machine Learning Researcher         Machine Learning and AI   \n",
       "9       2023                Data Engineer                Data Engineering   \n",
       "\n",
       "  salary_currency  salary  salary_in_usd employee_residence experience_level  \\\n",
       "0             EUR   88000          95012            Germany        Mid-level   \n",
       "1             USD  186000         186000      United States           Senior   \n",
       "2             USD   81800          81800      United States           Senior   \n",
       "3             USD  212000         212000      United States           Senior   \n",
       "4             USD   93300          93300      United States           Senior   \n",
       "5             USD  130000         130000      United States           Senior   \n",
       "6             USD  100000         100000      United States           Senior   \n",
       "7             USD  224400         224400      United States        Mid-level   \n",
       "8             USD  138700         138700      United States        Mid-level   \n",
       "9             USD  210000         210000      United States        Executive   \n",
       "\n",
       "  employment_type work_setting company_location company_size  \n",
       "0       Full-time       Hybrid          Germany            L  \n",
       "1       Full-time    In-person    United States            M  \n",
       "2       Full-time    In-person    United States            M  \n",
       "3       Full-time    In-person    United States            M  \n",
       "4       Full-time    In-person    United States            M  \n",
       "5       Full-time       Remote    United States            M  \n",
       "6       Full-time       Remote    United States            M  \n",
       "7       Full-time    In-person    United States            M  \n",
       "8       Full-time    In-person    United States            M  \n",
       "9       Full-time       Remote    United States            M  "
      ]
     },
     "execution_count": 86,
     "metadata": {},
     "output_type": "execute_result"
    }
   ],
   "source": [
    "jobs.head(10)"
   ]
  },
  {
   "cell_type": "markdown",
   "id": "c545592c",
   "metadata": {},
   "source": [
    "## Quantitative Values"
   ]
  },
  {
   "cell_type": "code",
   "execution_count": 66,
   "id": "8504d430",
   "metadata": {},
   "outputs": [
    {
     "data": {
      "text/html": [
       "<div>\n",
       "<style scoped>\n",
       "    .dataframe tbody tr th:only-of-type {\n",
       "        vertical-align: middle;\n",
       "    }\n",
       "\n",
       "    .dataframe tbody tr th {\n",
       "        vertical-align: top;\n",
       "    }\n",
       "\n",
       "    .dataframe thead th {\n",
       "        text-align: right;\n",
       "    }\n",
       "</style>\n",
       "<table border=\"1\" class=\"dataframe\">\n",
       "  <thead>\n",
       "    <tr style=\"text-align: right;\">\n",
       "      <th></th>\n",
       "      <th>work_year</th>\n",
       "      <th>salary</th>\n",
       "      <th>salary_in_usd</th>\n",
       "    </tr>\n",
       "  </thead>\n",
       "  <tbody>\n",
       "    <tr>\n",
       "      <th>count</th>\n",
       "      <td>9355</td>\n",
       "      <td>9355</td>\n",
       "      <td>9355</td>\n",
       "    </tr>\n",
       "    <tr>\n",
       "      <th>mean</th>\n",
       "      <td>2022</td>\n",
       "      <td>149927</td>\n",
       "      <td>150299</td>\n",
       "    </tr>\n",
       "    <tr>\n",
       "      <th>std</th>\n",
       "      <td>0</td>\n",
       "      <td>63608</td>\n",
       "      <td>63177</td>\n",
       "    </tr>\n",
       "    <tr>\n",
       "      <th>min</th>\n",
       "      <td>2020</td>\n",
       "      <td>14000</td>\n",
       "      <td>15000</td>\n",
       "    </tr>\n",
       "    <tr>\n",
       "      <th>25%</th>\n",
       "      <td>2023</td>\n",
       "      <td>105200</td>\n",
       "      <td>105700</td>\n",
       "    </tr>\n",
       "    <tr>\n",
       "      <th>50%</th>\n",
       "      <td>2023</td>\n",
       "      <td>143860</td>\n",
       "      <td>143000</td>\n",
       "    </tr>\n",
       "    <tr>\n",
       "      <th>75%</th>\n",
       "      <td>2023</td>\n",
       "      <td>187000</td>\n",
       "      <td>186723</td>\n",
       "    </tr>\n",
       "    <tr>\n",
       "      <th>max</th>\n",
       "      <td>2023</td>\n",
       "      <td>450000</td>\n",
       "      <td>450000</td>\n",
       "    </tr>\n",
       "  </tbody>\n",
       "</table>\n",
       "</div>"
      ],
      "text/plain": [
       "       work_year  salary  salary_in_usd\n",
       "count       9355    9355           9355\n",
       "mean        2022  149927         150299\n",
       "std            0   63608          63177\n",
       "min         2020   14000          15000\n",
       "25%         2023  105200         105700\n",
       "50%         2023  143860         143000\n",
       "75%         2023  187000         186723\n",
       "max         2023  450000         450000"
      ]
     },
     "execution_count": 66,
     "metadata": {},
     "output_type": "execute_result"
    }
   ],
   "source": [
    "jobs.describe().astype(int)"
   ]
  },
  {
   "cell_type": "code",
   "execution_count": 67,
   "id": "4ec4be53",
   "metadata": {},
   "outputs": [
    {
     "name": "stdout",
     "output_type": "stream",
     "text": [
      "\t\t\tUnique records in Dataset\n",
      "----------------------------------------------------------------------------\n",
      "WORK_YEAR (distinct: 4)\n",
      "[2023 2022 2020 2021]\n",
      "----------------------------------------------------------------------------\n",
      "JOB_TITLE (distinct: 125)\n",
      "['Data DevOps Engineer' 'Data Architect' 'Data Scientist'\n",
      " 'Machine Learning Researcher' 'Data Engineer' 'Machine Learning Engineer'\n",
      " 'Data Analyst' 'Analytics Engineer' 'Applied Scientist' 'BI Developer'\n",
      " 'Business Intelligence Engineer' 'Research Scientist' 'Research Analyst'\n",
      " 'Research Engineer' 'Data Science Engineer' 'Data Quality Analyst'\n",
      " 'Data Product Manager' 'Machine Learning Scientist' 'AI Engineer'\n",
      " 'MLOps Engineer' 'Deep Learning Engineer' 'Data Modeler'\n",
      " 'Data Product Owner' 'Data Science Consultant'\n",
      " 'Business Intelligence Analyst' 'AI Developer' 'Data Manager'\n",
      " 'ML Engineer' 'Data Science Director' 'Head of Data' 'BI Analyst'\n",
      " 'Data Management Analyst' 'Machine Learning Modeler' 'Data Specialist'\n",
      " 'BI Data Analyst' 'Data Integration Engineer'\n",
      " 'Business Intelligence Manager' 'Data Integration Specialist'\n",
      " 'Data Science Practitioner' 'Business Intelligence Developer'\n",
      " 'AI Research Engineer' 'Data Lead' 'Data Management Specialist'\n",
      " 'AI Architect' 'Data Science Manager' 'Data Strategist'\n",
      " 'Business Intelligence Specialist'\n",
      " 'Machine Learning Infrastructure Engineer' 'Data Quality Engineer'\n",
      " 'Director of Data Science' 'Business Data Analyst' 'Decision Scientist'\n",
      " 'Financial Data Analyst' 'Data Strategy Manager'\n",
      " 'Computer Vision Engineer' 'Data Visualization Specialist'\n",
      " 'Insight Analyst' 'Data Visualization Engineer' 'ETL Developer'\n",
      " 'Data Analytics Manager' 'Azure Data Engineer' 'Data Developer'\n",
      " 'Principal Data Scientist' 'Data Science Lead' 'Staff Data Analyst'\n",
      " 'Data Infrastructure Engineer' 'Machine Learning Software Engineer'\n",
      " 'Machine Learning Operations Engineer' 'AI Scientist'\n",
      " 'Head of Machine Learning' 'Applied Data Scientist' 'AI Programmer'\n",
      " 'Data Operations Analyst' 'Applied Machine Learning Scientist'\n",
      " 'Data Analytics Lead' 'Data Operations Engineer'\n",
      " 'Machine Learning Manager' 'Lead Data Scientist'\n",
      " 'Principal Machine Learning Engineer' 'Principal Data Engineer'\n",
      " 'Power BI Developer' 'Head of Data Science'\n",
      " 'Staff Machine Learning Engineer' 'Staff Data Scientist'\n",
      " 'Consultant Data Engineer' 'Machine Learning Specialist'\n",
      " 'Business Intelligence Data Analyst' 'Data Operations Manager'\n",
      " 'Lead Machine Learning Engineer' 'Managing Director Data Science'\n",
      " 'Data Modeller' 'Finance Data Analyst' 'Software Data Engineer'\n",
      " 'Machine Learning Research Engineer' 'Compliance Data Analyst'\n",
      " 'Data Operations Specialist' 'Cloud Data Engineer'\n",
      " 'Analytics Engineering Manager' 'NLP Engineer' 'AWS Data Architect'\n",
      " 'Product Data Analyst' 'Machine Learning Developer'\n",
      " 'Data Visualization Analyst' 'Autonomous Vehicle Technician'\n",
      " 'Sales Data Analyst' 'Applied Machine Learning Engineer' 'ETL Engineer'\n",
      " 'Big Data Engineer' 'Lead Data Analyst' 'BI Data Engineer'\n",
      " 'Cloud Database Engineer' 'Deep Learning Researcher'\n",
      " 'Data Analytics Specialist' 'Big Data Architect'\n",
      " 'Computer Vision Software Engineer' 'Marketing Data Engineer'\n",
      " 'Manager Data Management' 'Data Analytics Consultant'\n",
      " 'Data Science Tech Lead' 'Data Scientist Lead' 'Marketing Data Analyst'\n",
      " 'Data Analytics Engineer' 'Cloud Data Architect' 'Lead Data Engineer'\n",
      " 'Principal Data Analyst']\n",
      "----------------------------------------------------------------------------\n",
      "JOB_CATEGORY (distinct: 10)\n",
      "['Data Engineering' 'Data Architecture and Modeling'\n",
      " 'Data Science and Research' 'Machine Learning and AI' 'Data Analysis'\n",
      " 'Leadership and Management' 'BI and Visualization'\n",
      " 'Data Quality and Operations' 'Data Management and Strategy'\n",
      " 'Cloud and Database']\n",
      "----------------------------------------------------------------------------\n",
      "SALARY_CURRENCY (distinct: 11)\n",
      "['EUR' 'USD' 'GBP' 'CAD' 'AUD' 'PLN' 'BRL' 'TRY' 'CHF' 'SGD' 'DKK']\n",
      "----------------------------------------------------------------------------\n",
      "SALARY (distinct: 1,507)\n",
      "[ 88000 186000  81800 ... 138350 423000 412000]\n",
      "----------------------------------------------------------------------------\n",
      "SALARY_IN_USD (distinct: 1,786)\n",
      "[ 95012 186000  81800 ... 423000  28369 412000]\n",
      "----------------------------------------------------------------------------\n",
      "EMPLOYEE_RESIDENCE (distinct: 83)\n",
      "['Germany' 'United States' 'United Kingdom' 'Canada' 'Spain' 'Ireland'\n",
      " 'South Africa' 'Poland' 'France' 'Czech Republic' 'Netherlands'\n",
      " 'Pakistan' 'Ukraine' 'Lithuania' 'Portugal' 'Australia' 'Uganda'\n",
      " 'Colombia' 'Italy' 'Slovenia' 'Romania' 'Greece' 'India' 'Latvia'\n",
      " 'Mauritius' 'Armenia' 'Croatia' 'Thailand' 'South Korea' 'Estonia'\n",
      " 'Turkey' 'Philippines' 'Brazil' 'Qatar' 'Russia' 'Kenya' 'Tunisia'\n",
      " 'Ghana' 'Belgium' 'Switzerland' 'Andorra' 'Ecuador' 'Peru' 'Mexico'\n",
      " 'Moldova' 'Nigeria' 'Saudi Arabia' 'Argentina' 'Egypt' 'Uzbekistan'\n",
      " 'Georgia' 'Central African Republic' 'Finland' 'Austria' 'Singapore'\n",
      " 'Sweden' 'Kuwait' 'Cyprus' 'Bosnia and Herzegovina' 'Iran'\n",
      " 'American Samoa' 'China' 'Costa Rica' 'Chile' 'Puerto Rico' 'Denmark'\n",
      " 'Bolivia' 'Dominican Republic' 'Indonesia' 'United Arab Emirates'\n",
      " 'Malaysia' 'Japan' 'Honduras' 'Algeria' 'Vietnam' 'Iraq' 'Bulgaria'\n",
      " 'Jersey' 'Serbia' 'New Zealand' 'Hong Kong' 'Luxembourg' 'Malta']\n",
      "----------------------------------------------------------------------------\n",
      "EXPERIENCE_LEVEL (distinct: 4)\n",
      "['Mid-level' 'Senior' 'Executive' 'Entry-level']\n",
      "----------------------------------------------------------------------------\n",
      "EMPLOYMENT_TYPE (distinct: 4)\n",
      "['Full-time' 'Part-time' 'Contract' 'Freelance']\n",
      "----------------------------------------------------------------------------\n",
      "WORK_SETTING (distinct: 3)\n",
      "['Hybrid' 'In-person' 'Remote']\n",
      "----------------------------------------------------------------------------\n",
      "COMPANY_LOCATION (distinct: 70)\n",
      "['Germany' 'United States' 'United Kingdom' 'Canada' 'Spain' 'Ireland'\n",
      " 'South Africa' 'Poland' 'France' 'Netherlands' 'Luxembourg' 'Lithuania'\n",
      " 'Portugal' 'Gibraltar' 'Australia' 'Colombia' 'Ukraine' 'Slovenia'\n",
      " 'Romania' 'Greece' 'India' 'Latvia' 'Mauritius' 'Russia' 'Italy'\n",
      " 'South Korea' 'Estonia' 'Czech Republic' 'Brazil' 'Qatar' 'Kenya'\n",
      " 'Denmark' 'Ghana' 'Sweden' 'Turkey' 'Switzerland' 'Andorra' 'Ecuador'\n",
      " 'Mexico' 'Israel' 'Nigeria' 'Saudi Arabia' 'Argentina' 'Japan'\n",
      " 'Central African Republic' 'Finland' 'Singapore' 'Croatia' 'Armenia'\n",
      " 'Bosnia and Herzegovina' 'Pakistan' 'Iran' 'Bahamas' 'Austria'\n",
      " 'Puerto Rico' 'American Samoa' 'Thailand' 'Philippines' 'Belgium' 'Egypt'\n",
      " 'Indonesia' 'United Arab Emirates' 'Malaysia' 'Honduras' 'Algeria' 'Iraq'\n",
      " 'China' 'New Zealand' 'Moldova' 'Malta']\n",
      "----------------------------------------------------------------------------\n",
      "COMPANY_SIZE (distinct: 3)\n",
      "['L' 'M' 'S']\n"
     ]
    }
   ],
   "source": [
    "print(f\"\\t\\t\\tUnique records in Dataset\")\n",
    "\n",
    "for i in jobs.columns:\n",
    "    print('--'*38)\n",
    "    print(f\"{i.upper()} (distinct: {'{:,}'.format(jobs[i].nunique())})\")\n",
    "    print(df[i].unique())"
   ]
  },
  {
   "cell_type": "markdown",
   "id": "9d6d057f",
   "metadata": {},
   "source": [
    "**Company location distribution**"
   ]
  },
  {
   "cell_type": "code",
   "execution_count": 102,
   "id": "d9f7d7a5",
   "metadata": {},
   "outputs": [
    {
     "name": "stdout",
     "output_type": "stream",
     "text": [
      "United States     86.926777\n",
      "United Kingdom     4.799572\n",
      "Canada             2.415820\n",
      "Spain              1.207910\n",
      "Germany            0.769642\n",
      "                    ...    \n",
      "Gibraltar          0.010689\n",
      "Ecuador            0.010689\n",
      "Andorra            0.010689\n",
      "Mauritius          0.010689\n",
      "Malta              0.010689\n",
      "Name: company_location, Length: 70, dtype: float64\n"
     ]
    }
   ],
   "source": [
    "location_counts = (jobs['company_location'].value_counts()/len(jobs))*100\n",
    "print(location_counts)"
   ]
  },
  {
   "cell_type": "markdown",
   "id": "9aade7a4",
   "metadata": {},
   "source": [
    "# Exploratory Data Analysis"
   ]
  },
  {
   "cell_type": "code",
   "execution_count": 127,
   "id": "f1dbf137",
   "metadata": {},
   "outputs": [
    {
     "name": "stdout",
     "output_type": "stream",
     "text": [
      "Data Engineer                     2195\n",
      "Data Scientist                    1989\n",
      "Data Analyst                      1388\n",
      "Machine Learning Engineer          991\n",
      "Applied Scientist                  272\n",
      "Research Scientist                 269\n",
      "Analytics Engineer                 256\n",
      "Data Architect                     213\n",
      "Business Intelligence Engineer     144\n",
      "Research Engineer                  144\n",
      "Name: job_title, dtype: int64\n"
     ]
    }
   ],
   "source": [
    "top_10_job= jobs[\"job_title\"].value_counts().head(10)\n",
    "print(top_10_job)                                 "
   ]
  },
  {
   "cell_type": "markdown",
   "id": "bfe0d5ca",
   "metadata": {},
   "source": [
    "**Most popular job titles**"
   ]
  },
  {
   "cell_type": "code",
   "execution_count": 69,
   "id": "81aded0d",
   "metadata": {},
   "outputs": [
    {
     "data": {
      "image/png": "[encoded data removed]",
      "text/plain": [
       "<Figure size 1000x600 with 1 Axes>"
      ]
     },
     "metadata": {},
     "output_type": "display_data"
    }
   ],
   "source": [
    "plt.figure(figsize=(10, 6))\n",
    "top_10_jobs = jobs['job_title'].value_counts().head(10)\n",
    "\n",
    "# Create a bar plot\n",
    "sns.barplot(x=top_10_jobs.values, y=top_10_jobs.index, orient='h')\n",
    "\n",
    "# Add labels and title\n",
    "plt.xlabel(\"Count\")\n",
    "plt.ylabel(\"Job Title\")\n",
    "plt.title(\"Top 10 most popular Job Titles\")\n",
    "\n",
    "# Show the plot\n",
    "plt.show()"
   ]
  },
  {
   "cell_type": "markdown",
   "id": "b072889e",
   "metadata": {},
   "source": [
    "**Top 10 Most earned job**"
   ]
  },
  {
   "cell_type": "code",
   "execution_count": 70,
   "id": "2980374e",
   "metadata": {},
   "outputs": [
    {
     "name": "stdout",
     "output_type": "stream",
     "text": [
      "job_title\n",
      "Analytics Engineering Manager         399880.000000\n",
      "Data Science Tech Lead                375000.000000\n",
      "Managing Director Data Science        300000.000000\n",
      "Head of Machine Learning              259000.000000\n",
      "AWS Data Architect                    258000.000000\n",
      "AI Architect                          250328.000000\n",
      "Cloud Data Architect                  250000.000000\n",
      "Director of Data Science              221365.034483\n",
      "Machine Learning Software Engineer    212907.692308\n",
      "Head of Data                          211186.545455\n",
      "Name: salary_in_usd, dtype: float64\n"
     ]
    }
   ],
   "source": [
    "# Calculate the average salary for each job title\n",
    "average_salary_by_job = jobs.groupby('job_title')['salary_in_usd'].mean()\n",
    "\n",
    "# Sort the job titles by average salary in descending order\n",
    "sorted_jobs = average_salary_by_job.sort_values(ascending=False)\n",
    "\n",
    "# Select the top 10 highest-earning job titles\n",
    "top_10_earning_jobs = sorted_jobs.head(10)\n",
    "\n",
    "print(top_10_earning_jobs)"
   ]
  },
  {
   "cell_type": "code",
   "execution_count": 71,
   "id": "d95967fe",
   "metadata": {},
   "outputs": [
    {
     "data": {
      "image/png": "[encoded data removed]",
      "text/plain": [
       "<Figure size 1000x600 with 1 Axes>"
      ]
     },
     "metadata": {},
     "output_type": "display_data"
    }
   ],
   "source": [
    "plt.figure(figsize=(10, 6)) \n",
    "\n",
    "sns.barplot(x=top_10_earning_jobs.values, y=top_10_earning_jobs.index)\n",
    "\n",
    "plt.xlabel(\"Average Salary (USD)\")\n",
    "plt.ylabel(\"Job Title\")\n",
    "plt.title(\"Top 10 Highest-Earning Jobs\")\n",
    "plt.show()"
   ]
  },
  {
   "cell_type": "markdown",
   "id": "4677ee69",
   "metadata": {},
   "source": [
    "**Average salary by country**"
   ]
  },
  {
   "cell_type": "code",
   "execution_count": 72,
   "id": "f6661cbc",
   "metadata": {},
   "outputs": [
    {
     "data": {
      "text/plain": [
       "job_title                       employee_residence\n",
       "Data Analytics Lead             United States         405000.0\n",
       "Analytics Engineering Manager   United Kingdom        399880.0\n",
       "Data Science Tech Lead          United States         375000.0\n",
       "Finance Data Analyst            France                323905.0\n",
       "Managing Director Data Science  United States         300000.0\n",
       "Name: salary_in_usd, dtype: float64"
      ]
     },
     "execution_count": 72,
     "metadata": {},
     "output_type": "execute_result"
    }
   ],
   "source": [
    "jobs.groupby([\"job_title\", \"employee_residence\"])[\"salary_in_usd\"].mean().sort_values(ascending=False).head(5)"
   ]
  },
  {
   "cell_type": "code",
   "execution_count": 74,
   "id": "5e84020e",
   "metadata": {},
   "outputs": [
    {
     "data": {
      "application/vnd.plotly.v1+json": {
       "config": {
        "plotlyServerURL": "https://plot.ly"
       },
       "data": [
        {
         "coloraxis": "coloraxis",
         "geo": "geo",
         "hovertemplate": "<b>%{hovertext}</b><br><br>employee_residence=%{location}<br>Average Salary=%{z}<extra></extra>",
         "hovertext": [
          "Belgium",
          "United States",
          "Bosnia and Herzegovina",
          "Canada",
          "Finland",
          "France",
          "Germany",
          "Italy",
          "Sweden",
          "Ukraine",
          "United States",
          "Croatia",
          "Czech Republic",
          "Portugal",
          "Qatar",
          "Romania",
          "Spain",
          "United Kingdom",
          "United States",
          "Canada",
          "India",
          "Pakistan",
          "South Korea",
          "Portugal",
          "Tunisia",
          "United Kingdom",
          "Australia",
          "Canada",
          "Colombia",
          "Denmark",
          "Germany",
          "Ghana",
          "India",
          "Portugal",
          "South Korea",
          "Spain",
          "Turkey",
          "United States",
          "United States",
          "Argentina",
          "Brazil",
          "Canada",
          "Netherlands",
          "Nigeria",
          "United Kingdom",
          "United States",
          "United Kingdom",
          "Australia",
          "Austria",
          "Germany",
          "Italy",
          "Kenya",
          "United Kingdom",
          "United States",
          "India",
          "United States",
          "Bolivia",
          "France",
          "Germany",
          "Italy",
          "Tunisia",
          "United States",
          "Vietnam",
          "Nigeria",
          "United States",
          "American Samoa",
          "United Kingdom",
          "Mauritius",
          "Netherlands",
          "Brazil",
          "Nigeria",
          "Turkey",
          "United States",
          "Argentina",
          "Australia",
          "Canada",
          "Egypt",
          "France",
          "Germany",
          "India",
          "Kenya",
          "Ukraine",
          "United States",
          "United States",
          "United Kingdom",
          "United States",
          "Canada",
          "United Kingdom",
          "Canada",
          "Moldova",
          "Poland",
          "Spain",
          "Sweden",
          "United Kingdom",
          "United States",
          "Armenia",
          "Canada",
          "Ghana",
          "India",
          "Luxembourg",
          "Philippines",
          "Spain",
          "United States",
          "Canada",
          "United States",
          "Canada",
          "United States",
          "Canada",
          "Ghana",
          "United States",
          "Canada",
          "United Kingdom",
          "United States",
          "United States",
          "United States",
          "United States",
          "Brazil",
          "Germany",
          "Singapore",
          "United Kingdom",
          "United States",
          "Nigeria",
          "United States",
          "Brazil",
          "Denmark",
          "France",
          "India",
          "Russia",
          "United Kingdom",
          "United States",
          "Australia",
          "Denmark",
          "Germany",
          "Netherlands",
          "United States",
          "Canada",
          "Argentina",
          "Australia",
          "Bulgaria",
          "Canada",
          "Central African Republic",
          "China",
          "Colombia",
          "Costa Rica",
          "Croatia",
          "Estonia",
          "France",
          "Germany",
          "Greece",
          "India",
          "Indonesia",
          "Kuwait",
          "Philippines",
          "Poland",
          "Portugal",
          "Singapore",
          "Slovenia",
          "Spain",
          "United Kingdom",
          "United States",
          "Uzbekistan",
          "Belgium",
          "United States",
          "Germany",
          "Pakistan",
          "United States",
          "Vietnam",
          "United Kingdom",
          "United States",
          "Netherlands",
          "United States",
          "United States",
          "Canada",
          "United Kingdom",
          "United States",
          "France",
          "Germany",
          "United States",
          "Argentina",
          "Australia",
          "Austria",
          "Brazil",
          "Canada",
          "Colombia",
          "Estonia",
          "France",
          "Germany",
          "Greece",
          "Hong Kong",
          "India",
          "Ireland",
          "Italy",
          "Lithuania",
          "Malta",
          "Mexico",
          "Netherlands",
          "Pakistan",
          "Peru",
          "Poland",
          "Portugal",
          "Puerto Rico",
          "Romania",
          "Slovenia",
          "South Africa",
          "Spain",
          "Turkey",
          "United Kingdom",
          "United States",
          "United States",
          "United States",
          "Canada",
          "United States",
          "United States",
          "United States",
          "Italy",
          "United States",
          "Canada",
          "Colombia",
          "Mexico",
          "United Kingdom",
          "United States",
          "United Kingdom",
          "United States",
          "United Kingdom",
          "United Kingdom",
          "United States",
          "United States",
          "United States",
          "United States",
          "United States",
          "United Kingdom",
          "United Kingdom",
          "United States",
          "Portugal",
          "United States",
          "France",
          "Germany",
          "Italy",
          "Pakistan",
          "Spain",
          "United Kingdom",
          "United States",
          "United States",
          "Argentina",
          "Canada",
          "Greece",
          "Switzerland",
          "United States",
          "United Kingdom",
          "United States",
          "Australia",
          "Mexico",
          "Philippines",
          "United States",
          "Uzbekistan",
          "United States",
          "United States",
          "Algeria",
          "Andorra",
          "Australia",
          "Austria",
          "Belgium",
          "Brazil",
          "Canada",
          "Cyprus",
          "Dominican Republic",
          "Ecuador",
          "France",
          "Germany",
          "Greece",
          "India",
          "Ireland",
          "Italy",
          "Japan",
          "Latvia",
          "Mexico",
          "Netherlands",
          "Nigeria",
          "Philippines",
          "Poland",
          "Romania",
          "Russia",
          "Serbia",
          "Singapore",
          "Spain",
          "Switzerland",
          "Turkey",
          "United Kingdom",
          "United States",
          "Uzbekistan",
          "Austria",
          "United States",
          "Chile",
          "United States",
          "Canada",
          "United States",
          "United States",
          "United States",
          "United States",
          "United States",
          "United Kingdom",
          "United States",
          "Canada",
          "United Kingdom",
          "United States",
          "Germany",
          "Canada",
          "France",
          "Germany",
          "Italy",
          "Japan",
          "United Kingdom",
          "United States",
          "Greece",
          "United States",
          "United Kingdom",
          "France",
          "Nigeria",
          "United Kingdom",
          "United States",
          "Brazil",
          "Estonia",
          "Malaysia",
          "Portugal",
          "Russia",
          "Slovenia",
          "United Kingdom",
          "United States",
          "Netherlands",
          "Russia",
          "United Kingdom",
          "United States",
          "United States",
          "Portugal",
          "United Kingdom",
          "United States",
          "Canada",
          "New Zealand",
          "Portugal",
          "Puerto Rico",
          "United Kingdom",
          "United States",
          "Ireland",
          "Portugal",
          "Russia",
          "United Arab Emirates",
          "United Kingdom",
          "United States",
          "Germany",
          "Moldova",
          "Portugal",
          "Australia",
          "Canada",
          "Germany",
          "Portugal",
          "United States",
          "Brazil",
          "United States",
          "Canada",
          "Iraq",
          "Italy",
          "Nigeria",
          "Pakistan",
          "Thailand",
          "United States",
          "Armenia",
          "Australia",
          "Belgium",
          "Canada",
          "Colombia",
          "Croatia",
          "Finland",
          "France",
          "Germany",
          "India",
          "Iran",
          "Ireland",
          "Italy",
          "Japan",
          "Latvia",
          "Lithuania",
          "Mexico",
          "Netherlands",
          "Poland",
          "Portugal",
          "Puerto Rico",
          "Slovenia",
          "Spain",
          "Switzerland",
          "Uganda",
          "Ukraine",
          "United Arab Emirates",
          "United Kingdom",
          "United States",
          "France",
          "Portugal",
          "United Kingdom",
          "United States",
          "Canada",
          "Germany",
          "United States",
          "United States",
          "Thailand",
          "France",
          "Germany",
          "Saudi Arabia",
          "United Kingdom",
          "Canada",
          "Ukraine",
          "United States",
          "Canada",
          "Egypt",
          "Italy",
          "Japan",
          "United Kingdom",
          "United States",
          "Canada",
          "United States",
          "France",
          "United States",
          "United States",
          "Greece",
          "United Kingdom",
          "Singapore",
          "India",
          "Italy",
          "Poland",
          "Spain",
          "United States",
          "Poland",
          "Canada",
          "United States",
          "Spain",
          "United States",
          "Germany",
          "Spain",
          "United States",
          "Brazil",
          "India",
          "United States",
          "Georgia",
          "Honduras",
          "United States",
          "Italy",
          "Spain",
          "United Kingdom",
          "United States",
          "France",
          "Germany",
          "Russia",
          "United Kingdom",
          "United States",
          "Austria",
          "Canada",
          "Czech Republic",
          "France",
          "Germany",
          "India",
          "Jersey",
          "Netherlands",
          "Portugal",
          "Spain",
          "United Kingdom",
          "United States",
          "Nigeria",
          "Nigeria",
          "Singapore",
          "United States",
          "Canada",
          "Nigeria",
          "Saudi Arabia",
          "United States",
          "United States"
         ],
         "locationmode": "country names",
         "locations": [
          "Belgium",
          "United States",
          "Bosnia and Herzegovina",
          "Canada",
          "Finland",
          "France",
          "Germany",
          "Italy",
          "Sweden",
          "Ukraine",
          "United States",
          "Croatia",
          "Czech Republic",
          "Portugal",
          "Qatar",
          "Romania",
          "Spain",
          "United Kingdom",
          "United States",
          "Canada",
          "India",
          "Pakistan",
          "South Korea",
          "Portugal",
          "Tunisia",
          "United Kingdom",
          "Australia",
          "Canada",
          "Colombia",
          "Denmark",
          "Germany",
          "Ghana",
          "India",
          "Portugal",
          "South Korea",
          "Spain",
          "Turkey",
          "United States",
          "United States",
          "Argentina",
          "Brazil",
          "Canada",
          "Netherlands",
          "Nigeria",
          "United Kingdom",
          "United States",
          "United Kingdom",
          "Australia",
          "Austria",
          "Germany",
          "Italy",
          "Kenya",
          "United Kingdom",
          "United States",
          "India",
          "United States",
          "Bolivia",
          "France",
          "Germany",
          "Italy",
          "Tunisia",
          "United States",
          "Vietnam",
          "Nigeria",
          "United States",
          "American Samoa",
          "United Kingdom",
          "Mauritius",
          "Netherlands",
          "Brazil",
          "Nigeria",
          "Turkey",
          "United States",
          "Argentina",
          "Australia",
          "Canada",
          "Egypt",
          "France",
          "Germany",
          "India",
          "Kenya",
          "Ukraine",
          "United States",
          "United States",
          "United Kingdom",
          "United States",
          "Canada",
          "United Kingdom",
          "Canada",
          "Moldova",
          "Poland",
          "Spain",
          "Sweden",
          "United Kingdom",
          "United States",
          "Armenia",
          "Canada",
          "Ghana",
          "India",
          "Luxembourg",
          "Philippines",
          "Spain",
          "United States",
          "Canada",
          "United States",
          "Canada",
          "United States",
          "Canada",
          "Ghana",
          "United States",
          "Canada",
          "United Kingdom",
          "United States",
          "United States",
          "United States",
          "United States",
          "Brazil",
          "Germany",
          "Singapore",
          "United Kingdom",
          "United States",
          "Nigeria",
          "United States",
          "Brazil",
          "Denmark",
          "France",
          "India",
          "Russia",
          "United Kingdom",
          "United States",
          "Australia",
          "Denmark",
          "Germany",
          "Netherlands",
          "United States",
          "Canada",
          "Argentina",
          "Australia",
          "Bulgaria",
          "Canada",
          "Central African Republic",
          "China",
          "Colombia",
          "Costa Rica",
          "Croatia",
          "Estonia",
          "France",
          "Germany",
          "Greece",
          "India",
          "Indonesia",
          "Kuwait",
          "Philippines",
          "Poland",
          "Portugal",
          "Singapore",
          "Slovenia",
          "Spain",
          "United Kingdom",
          "United States",
          "Uzbekistan",
          "Belgium",
          "United States",
          "Germany",
          "Pakistan",
          "United States",
          "Vietnam",
          "United Kingdom",
          "United States",
          "Netherlands",
          "United States",
          "United States",
          "Canada",
          "United Kingdom",
          "United States",
          "France",
          "Germany",
          "United States",
          "Argentina",
          "Australia",
          "Austria",
          "Brazil",
          "Canada",
          "Colombia",
          "Estonia",
          "France",
          "Germany",
          "Greece",
          "Hong Kong",
          "India",
          "Ireland",
          "Italy",
          "Lithuania",
          "Malta",
          "Mexico",
          "Netherlands",
          "Pakistan",
          "Peru",
          "Poland",
          "Portugal",
          "Puerto Rico",
          "Romania",
          "Slovenia",
          "South Africa",
          "Spain",
          "Turkey",
          "United Kingdom",
          "United States",
          "United States",
          "United States",
          "Canada",
          "United States",
          "United States",
          "United States",
          "Italy",
          "United States",
          "Canada",
          "Colombia",
          "Mexico",
          "United Kingdom",
          "United States",
          "United Kingdom",
          "United States",
          "United Kingdom",
          "United Kingdom",
          "United States",
          "United States",
          "United States",
          "United States",
          "United States",
          "United Kingdom",
          "United Kingdom",
          "United States",
          "Portugal",
          "United States",
          "France",
          "Germany",
          "Italy",
          "Pakistan",
          "Spain",
          "United Kingdom",
          "United States",
          "United States",
          "Argentina",
          "Canada",
          "Greece",
          "Switzerland",
          "United States",
          "United Kingdom",
          "United States",
          "Australia",
          "Mexico",
          "Philippines",
          "United States",
          "Uzbekistan",
          "United States",
          "United States",
          "Algeria",
          "Andorra",
          "Australia",
          "Austria",
          "Belgium",
          "Brazil",
          "Canada",
          "Cyprus",
          "Dominican Republic",
          "Ecuador",
          "France",
          "Germany",
          "Greece",
          "India",
          "Ireland",
          "Italy",
          "Japan",
          "Latvia",
          "Mexico",
          "Netherlands",
          "Nigeria",
          "Philippines",
          "Poland",
          "Romania",
          "Russia",
          "Serbia",
          "Singapore",
          "Spain",
          "Switzerland",
          "Turkey",
          "United Kingdom",
          "United States",
          "Uzbekistan",
          "Austria",
          "United States",
          "Chile",
          "United States",
          "Canada",
          "United States",
          "United States",
          "United States",
          "United States",
          "United States",
          "United Kingdom",
          "United States",
          "Canada",
          "United Kingdom",
          "United States",
          "Germany",
          "Canada",
          "France",
          "Germany",
          "Italy",
          "Japan",
          "United Kingdom",
          "United States",
          "Greece",
          "United States",
          "United Kingdom",
          "France",
          "Nigeria",
          "United Kingdom",
          "United States",
          "Brazil",
          "Estonia",
          "Malaysia",
          "Portugal",
          "Russia",
          "Slovenia",
          "United Kingdom",
          "United States",
          "Netherlands",
          "Russia",
          "United Kingdom",
          "United States",
          "United States",
          "Portugal",
          "United Kingdom",
          "United States",
          "Canada",
          "New Zealand",
          "Portugal",
          "Puerto Rico",
          "United Kingdom",
          "United States",
          "Ireland",
          "Portugal",
          "Russia",
          "United Arab Emirates",
          "United Kingdom",
          "United States",
          "Germany",
          "Moldova",
          "Portugal",
          "Australia",
          "Canada",
          "Germany",
          "Portugal",
          "United States",
          "Brazil",
          "United States",
          "Canada",
          "Iraq",
          "Italy",
          "Nigeria",
          "Pakistan",
          "Thailand",
          "United States",
          "Armenia",
          "Australia",
          "Belgium",
          "Canada",
          "Colombia",
          "Croatia",
          "Finland",
          "France",
          "Germany",
          "India",
          "Iran",
          "Ireland",
          "Italy",
          "Japan",
          "Latvia",
          "Lithuania",
          "Mexico",
          "Netherlands",
          "Poland",
          "Portugal",
          "Puerto Rico",
          "Slovenia",
          "Spain",
          "Switzerland",
          "Uganda",
          "Ukraine",
          "United Arab Emirates",
          "United Kingdom",
          "United States",
          "France",
          "Portugal",
          "United Kingdom",
          "United States",
          "Canada",
          "Germany",
          "United States",
          "United States",
          "Thailand",
          "France",
          "Germany",
          "Saudi Arabia",
          "United Kingdom",
          "Canada",
          "Ukraine",
          "United States",
          "Canada",
          "Egypt",
          "Italy",
          "Japan",
          "United Kingdom",
          "United States",
          "Canada",
          "United States",
          "France",
          "United States",
          "United States",
          "Greece",
          "United Kingdom",
          "Singapore",
          "India",
          "Italy",
          "Poland",
          "Spain",
          "United States",
          "Poland",
          "Canada",
          "United States",
          "Spain",
          "United States",
          "Germany",
          "Spain",
          "United States",
          "Brazil",
          "India",
          "United States",
          "Georgia",
          "Honduras",
          "United States",
          "Italy",
          "Spain",
          "United Kingdom",
          "United States",
          "France",
          "Germany",
          "Russia",
          "United Kingdom",
          "United States",
          "Austria",
          "Canada",
          "Czech Republic",
          "France",
          "Germany",
          "India",
          "Jersey",
          "Netherlands",
          "Portugal",
          "Spain",
          "United Kingdom",
          "United States",
          "Nigeria",
          "Nigeria",
          "Singapore",
          "United States",
          "Canada",
          "Nigeria",
          "Saudi Arabia",
          "United States",
          "United States"
         ],
         "name": "",
         "type": "choropleth",
         "z": [
          215936,
          253454.54545454544,
          120000,
          275000,
          74883,
          161952,
          140358.5,
          53984,
          80000,
          72666.66666666667,
          182285.7142857143,
          35000,
          50000,
          21593,
          300000,
          38868,
          48796,
          204900,
          193594.44444444444,
          97043.5,
          70000,
          40000,
          40000,
          24940,
          150000,
          59073,
          81838,
          200000,
          125000,
          45896,
          92390.5,
          30000,
          200000,
          31520,
          54000,
          46934,
          60000,
          142500,
          258000,
          48000,
          63000,
          134666.66666666666,
          37573,
          50000,
          156071.68181818182,
          158018.24215246638,
          399880,
          53817.5,
          50000,
          64781,
          29691,
          80000,
          82137.5,
          238000,
          70179,
          177500,
          75000,
          77119,
          43187,
          97712,
          30469,
          188800,
          38400,
          28000,
          191372.8777777778,
          45555,
          120000,
          100000,
          100000,
          63000,
          200000,
          18381,
          133789.6,
          60000,
          49209,
          85000,
          70000,
          105066,
          61236,
          150000,
          50000,
          25000,
          77500,
          60000,
          75592.5,
          118743.75,
          99703,
          153799,
          161311,
          18000,
          114047,
          54292.5,
          130000,
          109024,
          70000,
          17000,
          69133,
          46000,
          50000,
          59102,
          35000,
          50784.5,
          110111.11111111111,
          93722.66666666667,
          129053.4375,
          67419,
          99000,
          108250,
          15000,
          121086.25,
          135000,
          43064,
          153187,
          135000,
          144153,
          250000,
          160000,
          100000,
          89294,
          177177,
          155000,
          30000,
          60000,
          21453.5,
          28609,
          58837,
          90000,
          60000,
          164504,
          215093.33333333334,
          150000,
          19073,
          95746,
          53984,
          70000,
          118539,
          40000,
          116509.33333333333,
          80000,
          107254.4827586207,
          49216,
          125404,
          72000,
          20000,
          92280,
          45130.333333333336,
          44743,
          53304.75,
          31182,
          30000,
          15000,
          50000,
          50000,
          69386.66666666667,
          38193.666666666664,
          65257,
          42647,
          43788.41176470588,
          88412.09411764707,
          114324.25474031328,
          100000,
          50000,
          113000,
          79197,
          20000,
          122500,
          50000,
          113812,
          405000,
          133000,
          145857.83783783784,
          95000,
          145150,
          101983.2,
          167560.09547738693,
          53984,
          95012,
          103738.16666666667,
          65000,
          75050,
          74130,
          63000,
          148548.58333333334,
          87750,
          50529,
          73362.55555555556,
          88989.54545454546,
          67631,
          66022,
          18000,
          102569,
          52670,
          94812,
          28369,
          66000,
          58340,
          55108.5,
          27000,
          39409.333333333336,
          53892,
          167500,
          51419,
          62081,
          100492.5,
          72778.23076923077,
          28016,
          89443.08547008547,
          154245.12409513962,
          201375.41666666666,
          118000,
          100000,
          94341.66666666667,
          184642.85714285713,
          56000,
          68293,
          116523.25,
          125976,
          56500,
          72000,
          68648.83333333333,
          112941.94262295082,
          83052,
          132050,
          83052,
          110500,
          88498.75,
          133431.25,
          136000,
          55355,
          142750,
          89204,
          43064,
          89898.88888888889,
          23753,
          131500,
          69741,
          72499,
          24165,
          21000,
          27317,
          60927.5,
          121724.24242424243,
          201000,
          60000,
          127221,
          40189,
          104024,
          162715,
          67672,
          180105.05555555556,
          133766,
          120000,
          107968,
          206800.53012048194,
          106000,
          144480,
          375000,
          100000,
          50745,
          83171,
          75849.5,
          68030.5,
          64477.5,
          162714.9090909091,
          63701,
          110000,
          16000,
          54756.6875,
          71548,
          43931,
          42500,
          107744.8,
          23790.5,
          40000,
          58788.25,
          30000,
          79661.71428571429,
          50000,
          45760,
          33609,
          53984,
          48000,
          25532,
          119059,
          44938.8679245283,
          121520,
          26698.333333333332,
          108949.8552631579,
          166329.7747957993,
          40000,
          89306,
          183000,
          105000,
          103053.84615384616,
          81000,
          97688.125,
          138750,
          120000,
          122975,
          122275,
          147648,
          167119.44444444444,
          201702,
          67723,
          218855,
          124163,
          158992.5,
          57786,
          135936,
          153667,
          168000,
          219934,
          253918.88888888888,
          52533,
          137154.375,
          72286,
          323905,
          40000,
          61896,
          90375,
          112500,
          31520,
          200000,
          75577,
          230000,
          102839,
          169180,
          246704.54545454544,
          131721,
          85000,
          145673,
          224539.2857142857,
          259000,
          48585.5,
          47370,
          108333.33333333333,
          115222,
          125000,
          56000,
          160000,
          103160,
          276000,
          172309,
          29944,
          36000,
          115000,
          61566,
          179622.66666666666,
          84053,
          115000,
          69344,
          224993,
          185000,
          15966,
          21013,
          200487.8282828283,
          27568,
          128740,
          76814,
          100000,
          33000,
          60000,
          40000,
          15000,
          180000,
          50000,
          214772.8,
          85699,
          170826.92307692306,
          60614.666666666664,
          45618,
          63040,
          130204.16666666667,
          146595.85714285713,
          20000,
          100000,
          68293,
          56609.333333333336,
          74000,
          58302.5,
          100410,
          158666.66666666666,
          79409,
          46597,
          116666.66666666667,
          167500,
          24823,
          43075,
          80616.5,
          36000,
          230000,
          92500,
          135953.6923076923,
          192561.168591224,
          91772.5,
          52932.5,
          122698.5,
          182360,
          117104,
          129562,
          175000,
          173350,
          60000,
          20000,
          66192,
          90000,
          73824,
          105236,
          50000,
          147166.66666666666,
          154680,
          22800,
          34672,
          260000,
          155948.33333333334,
          183381.35483870967,
          206800,
          215622.22222222222,
          55000,
          125000,
          300000,
          88654,
          200000,
          66970,
          60000,
          66508,
          44365,
          69909.5,
          198333.33333333334,
          64781,
          75000,
          170000,
          91773,
          192500,
          159174,
          86374,
          229500,
          38290,
          160000,
          190000,
          57000,
          20000,
          107733.33333333333,
          52079,
          49297,
          43064,
          101687.48484848485,
          141796.66666666666,
          160835.5,
          16455,
          87773.2,
          189350.80916030533,
          61989,
          148273,
          69999,
          64673.25,
          105066.5,
          23000,
          100000,
          63026.5,
          60757,
          211475,
          166230.75,
          191087.32510288066,
          60000,
          50000,
          74883,
          210000,
          44753,
          15000,
          179998,
          134500,
          185000
         ]
        }
       ],
       "layout": {
        "coloraxis": {
         "colorbar": {
          "title": {
           "text": "Average Salary"
          }
         },
         "colorscale": [
          [
           0,
           "#0d0887"
          ],
          [
           0.1111111111111111,
           "#46039f"
          ],
          [
           0.2222222222222222,
           "#7201a8"
          ],
          [
           0.3333333333333333,
           "#9c179e"
          ],
          [
           0.4444444444444444,
           "#bd3786"
          ],
          [
           0.5555555555555556,
           "#d8576b"
          ],
          [
           0.6666666666666666,
           "#ed7953"
          ],
          [
           0.7777777777777778,
           "#fb9f3a"
          ],
          [
           0.8888888888888888,
           "#fdca26"
          ],
          [
           1,
           "#f0f921"
          ]
         ]
        },
        "geo": {
         "center": {},
         "domain": {
          "x": [
           0,
           1
          ],
          "y": [
           0,
           1
          ]
         },
         "projection": {
          "type": "natural earth"
         },
         "showcoastlines": true
        },
        "legend": {
         "tracegroupgap": 0
        },
        "margin": {
         "t": 60
        },
        "template": {
         "data": {
          "bar": [
           {
            "error_x": {
             "color": "#2a3f5f"
            },
            "error_y": {
             "color": "#2a3f5f"
            },
            "marker": {
             "line": {
              "color": "#E5ECF6",
              "width": 0.5
             },
             "pattern": {
              "fillmode": "overlay",
              "size": 10,
              "solidity": 0.2
             }
            },
            "type": "bar"
           }
          ],
          "barpolar": [
           {
            "marker": {
             "line": {
              "color": "#E5ECF6",
              "width": 0.5
             },
             "pattern": {
              "fillmode": "overlay",
              "size": 10,
              "solidity": 0.2
             }
            },
            "type": "barpolar"
           }
          ],
          "carpet": [
           {
            "aaxis": {
             "endlinecolor": "#2a3f5f",
             "gridcolor": "white",
             "linecolor": "white",
             "minorgridcolor": "white",
             "startlinecolor": "#2a3f5f"
            },
            "baxis": {
             "endlinecolor": "#2a3f5f",
             "gridcolor": "white",
             "linecolor": "white",
             "minorgridcolor": "white",
             "startlinecolor": "#2a3f5f"
            },
            "type": "carpet"
           }
          ],
          "choropleth": [
           {
            "colorbar": {
             "outlinewidth": 0,
             "ticks": ""
            },
            "type": "choropleth"
           }
          ],
          "contour": [
           {
            "colorbar": {
             "outlinewidth": 0,
             "ticks": ""
            },
            "colorscale": [
             [
              0,
              "#0d0887"
             ],
             [
              0.1111111111111111,
              "#46039f"
             ],
             [
              0.2222222222222222,
              "#7201a8"
             ],
             [
              0.3333333333333333,
              "#9c179e"
             ],
             [
              0.4444444444444444,
              "#bd3786"
             ],
             [
              0.5555555555555556,
              "#d8576b"
             ],
             [
              0.6666666666666666,
              "#ed7953"
             ],
             [
              0.7777777777777778,
              "#fb9f3a"
             ],
             [
              0.8888888888888888,
              "#fdca26"
             ],
             [
              1,
              "#f0f921"
             ]
            ],
            "type": "contour"
           }
          ],
          "contourcarpet": [
           {
            "colorbar": {
             "outlinewidth": 0,
             "ticks": ""
            },
            "type": "contourcarpet"
           }
          ],
          "heatmap": [
           {
            "colorbar": {
             "outlinewidth": 0,
             "ticks": ""
            },
            "colorscale": [
             [
              0,
              "#0d0887"
             ],
             [
              0.1111111111111111,
              "#46039f"
             ],
             [
              0.2222222222222222,
              "#7201a8"
             ],
             [
              0.3333333333333333,
              "#9c179e"
             ],
             [
              0.4444444444444444,
              "#bd3786"
             ],
             [
              0.5555555555555556,
              "#d8576b"
             ],
             [
              0.6666666666666666,
              "#ed7953"
             ],
             [
              0.7777777777777778,
              "#fb9f3a"
             ],
             [
              0.8888888888888888,
              "#fdca26"
             ],
             [
              1,
              "#f0f921"
             ]
            ],
            "type": "heatmap"
           }
          ],
          "heatmapgl": [
           {
            "colorbar": {
             "outlinewidth": 0,
             "ticks": ""
            },
            "colorscale": [
             [
              0,
              "#0d0887"
             ],
             [
              0.1111111111111111,
              "#46039f"
             ],
             [
              0.2222222222222222,
              "#7201a8"
             ],
             [
              0.3333333333333333,
              "#9c179e"
             ],
             [
              0.4444444444444444,
              "#bd3786"
             ],
             [
              0.5555555555555556,
              "#d8576b"
             ],
             [
              0.6666666666666666,
              "#ed7953"
             ],
             [
              0.7777777777777778,
              "#fb9f3a"
             ],
             [
              0.8888888888888888,
              "#fdca26"
             ],
             [
              1,
              "#f0f921"
             ]
            ],
            "type": "heatmapgl"
           }
          ],
          "histogram": [
           {
            "marker": {
             "pattern": {
              "fillmode": "overlay",
              "size": 10,
              "solidity": 0.2
             }
            },
            "type": "histogram"
           }
          ],
          "histogram2d": [
           {
            "colorbar": {
             "outlinewidth": 0,
             "ticks": ""
            },
            "colorscale": [
             [
              0,
              "#0d0887"
             ],
             [
              0.1111111111111111,
              "#46039f"
             ],
             [
              0.2222222222222222,
              "#7201a8"
             ],
             [
              0.3333333333333333,
              "#9c179e"
             ],
             [
              0.4444444444444444,
              "#bd3786"
             ],
             [
              0.5555555555555556,
              "#d8576b"
             ],
             [
              0.6666666666666666,
              "#ed7953"
             ],
             [
              0.7777777777777778,
              "#fb9f3a"
             ],
             [
              0.8888888888888888,
              "#fdca26"
             ],
             [
              1,
              "#f0f921"
             ]
            ],
            "type": "histogram2d"
           }
          ],
          "histogram2dcontour": [
           {
            "colorbar": {
             "outlinewidth": 0,
             "ticks": ""
            },
            "colorscale": [
             [
              0,
              "#0d0887"
             ],
             [
              0.1111111111111111,
              "#46039f"
             ],
             [
              0.2222222222222222,
              "#7201a8"
             ],
             [
              0.3333333333333333,
              "#9c179e"
             ],
             [
              0.4444444444444444,
              "#bd3786"
             ],
             [
              0.5555555555555556,
              "#d8576b"
             ],
             [
              0.6666666666666666,
              "#ed7953"
             ],
             [
              0.7777777777777778,
              "#fb9f3a"
             ],
             [
              0.8888888888888888,
              "#fdca26"
             ],
             [
              1,
              "#f0f921"
             ]
            ],
            "type": "histogram2dcontour"
           }
          ],
          "mesh3d": [
           {
            "colorbar": {
             "outlinewidth": 0,
             "ticks": ""
            },
            "type": "mesh3d"
           }
          ],
          "parcoords": [
           {
            "line": {
             "colorbar": {
              "outlinewidth": 0,
              "ticks": ""
             }
            },
            "type": "parcoords"
           }
          ],
          "pie": [
           {
            "automargin": true,
            "type": "pie"
           }
          ],
          "scatter": [
           {
            "fillpattern": {
             "fillmode": "overlay",
             "size": 10,
             "solidity": 0.2
            },
            "type": "scatter"
           }
          ],
          "scatter3d": [
           {
            "line": {
             "colorbar": {
              "outlinewidth": 0,
              "ticks": ""
             }
            },
            "marker": {
             "colorbar": {
              "outlinewidth": 0,
              "ticks": ""
             }
            },
            "type": "scatter3d"
           }
          ],
          "scattercarpet": [
           {
            "marker": {
             "colorbar": {
              "outlinewidth": 0,
              "ticks": ""
             }
            },
            "type": "scattercarpet"
           }
          ],
          "scattergeo": [
           {
            "marker": {
             "colorbar": {
              "outlinewidth": 0,
              "ticks": ""
             }
            },
            "type": "scattergeo"
           }
          ],
          "scattergl": [
           {
            "marker": {
             "colorbar": {
              "outlinewidth": 0,
              "ticks": ""
             }
            },
            "type": "scattergl"
           }
          ],
          "scattermapbox": [
           {
            "marker": {
             "colorbar": {
              "outlinewidth": 0,
              "ticks": ""
             }
            },
            "type": "scattermapbox"
           }
          ],
          "scatterpolar": [
           {
            "marker": {
             "colorbar": {
              "outlinewidth": 0,
              "ticks": ""
             }
            },
            "type": "scatterpolar"
           }
          ],
          "scatterpolargl": [
           {
            "marker": {
             "colorbar": {
              "outlinewidth": 0,
              "ticks": ""
             }
            },
            "type": "scatterpolargl"
           }
          ],
          "scatterternary": [
           {
            "marker": {
             "colorbar": {
              "outlinewidth": 0,
              "ticks": ""
             }
            },
            "type": "scatterternary"
           }
          ],
          "surface": [
           {
            "colorbar": {
             "outlinewidth": 0,
             "ticks": ""
            },
            "colorscale": [
             [
              0,
              "#0d0887"
             ],
             [
              0.1111111111111111,
              "#46039f"
             ],
             [
              0.2222222222222222,
              "#7201a8"
             ],
             [
              0.3333333333333333,
              "#9c179e"
             ],
             [
              0.4444444444444444,
              "#bd3786"
             ],
             [
              0.5555555555555556,
              "#d8576b"
             ],
             [
              0.6666666666666666,
              "#ed7953"
             ],
             [
              0.7777777777777778,
              "#fb9f3a"
             ],
             [
              0.8888888888888888,
              "#fdca26"
             ],
             [
              1,
              "#f0f921"
             ]
            ],
            "type": "surface"
           }
          ],
          "table": [
           {
            "cells": {
             "fill": {
              "color": "#EBF0F8"
             },
             "line": {
              "color": "white"
             }
            },
            "header": {
             "fill": {
              "color": "#C8D4E3"
             },
             "line": {
              "color": "white"
             }
            },
            "type": "table"
           }
          ]
         },
         "layout": {
          "annotationdefaults": {
           "arrowcolor": "#2a3f5f",
           "arrowhead": 0,
           "arrowwidth": 1
          },
          "autotypenumbers": "strict",
          "coloraxis": {
           "colorbar": {
            "outlinewidth": 0,
            "ticks": ""
           }
          },
          "colorscale": {
           "diverging": [
            [
             0,
             "#8e0152"
            ],
            [
             0.1,
             "#c51b7d"
            ],
            [
             0.2,
             "#de77ae"
            ],
            [
             0.3,
             "#f1b6da"
            ],
            [
             0.4,
             "#fde0ef"
            ],
            [
             0.5,
             "#f7f7f7"
            ],
            [
             0.6,
             "#e6f5d0"
            ],
            [
             0.7,
             "#b8e186"
            ],
            [
             0.8,
             "#7fbc41"
            ],
            [
             0.9,
             "#4d9221"
            ],
            [
             1,
             "#276419"
            ]
           ],
           "sequential": [
            [
             0,
             "#0d0887"
            ],
            [
             0.1111111111111111,
             "#46039f"
            ],
            [
             0.2222222222222222,
             "#7201a8"
            ],
            [
             0.3333333333333333,
             "#9c179e"
            ],
            [
             0.4444444444444444,
             "#bd3786"
            ],
            [
             0.5555555555555556,
             "#d8576b"
            ],
            [
             0.6666666666666666,
             "#ed7953"
            ],
            [
             0.7777777777777778,
             "#fb9f3a"
            ],
            [
             0.8888888888888888,
             "#fdca26"
            ],
            [
             1,
             "#f0f921"
            ]
           ],
           "sequentialminus": [
            [
             0,
             "#0d0887"
            ],
            [
             0.1111111111111111,
             "#46039f"
            ],
            [
             0.2222222222222222,
             "#7201a8"
            ],
            [
             0.3333333333333333,
             "#9c179e"
            ],
            [
             0.4444444444444444,
             "#bd3786"
            ],
            [
             0.5555555555555556,
             "#d8576b"
            ],
            [
             0.6666666666666666,
             "#ed7953"
            ],
            [
             0.7777777777777778,
             "#fb9f3a"
            ],
            [
             0.8888888888888888,
             "#fdca26"
            ],
            [
             1,
             "#f0f921"
            ]
           ]
          },
          "colorway": [
           "#636efa",
           "#EF553B",
           "#00cc96",
           "#ab63fa",
           "#FFA15A",
           "#19d3f3",
           "#FF6692",
           "#B6E880",
           "#FF97FF",
           "#FECB52"
          ],
          "font": {
           "color": "#2a3f5f"
          },
          "geo": {
           "bgcolor": "white",
           "lakecolor": "white",
           "landcolor": "#E5ECF6",
           "showlakes": true,
           "showland": true,
           "subunitcolor": "white"
          },
          "hoverlabel": {
           "align": "left"
          },
          "hovermode": "closest",
          "mapbox": {
           "style": "light"
          },
          "paper_bgcolor": "white",
          "plot_bgcolor": "#E5ECF6",
          "polar": {
           "angularaxis": {
            "gridcolor": "white",
            "linecolor": "white",
            "ticks": ""
           },
           "bgcolor": "#E5ECF6",
           "radialaxis": {
            "gridcolor": "white",
            "linecolor": "white",
            "ticks": ""
           }
          },
          "scene": {
           "xaxis": {
            "backgroundcolor": "#E5ECF6",
            "gridcolor": "white",
            "gridwidth": 2,
            "linecolor": "white",
            "showbackground": true,
            "ticks": "",
            "zerolinecolor": "white"
           },
           "yaxis": {
            "backgroundcolor": "#E5ECF6",
            "gridcolor": "white",
            "gridwidth": 2,
            "linecolor": "white",
            "showbackground": true,
            "ticks": "",
            "zerolinecolor": "white"
           },
           "zaxis": {
            "backgroundcolor": "#E5ECF6",
            "gridcolor": "white",
            "gridwidth": 2,
            "linecolor": "white",
            "showbackground": true,
            "ticks": "",
            "zerolinecolor": "white"
           }
          },
          "shapedefaults": {
           "line": {
            "color": "#2a3f5f"
           }
          },
          "ternary": {
           "aaxis": {
            "gridcolor": "white",
            "linecolor": "white",
            "ticks": ""
           },
           "baxis": {
            "gridcolor": "white",
            "linecolor": "white",
            "ticks": ""
           },
           "bgcolor": "#E5ECF6",
           "caxis": {
            "gridcolor": "white",
            "linecolor": "white",
            "ticks": ""
           }
          },
          "title": {
           "x": 0.05
          },
          "xaxis": {
           "automargin": true,
           "gridcolor": "white",
           "linecolor": "white",
           "ticks": "",
           "title": {
            "standoff": 15
           },
           "zerolinecolor": "white",
           "zerolinewidth": 2
          },
          "yaxis": {
           "automargin": true,
           "gridcolor": "white",
           "linecolor": "white",
           "ticks": "",
           "title": {
            "standoff": 15
           },
           "zerolinecolor": "white",
           "zerolinewidth": 2
          }
         }
        },
        "title": {
         "text": "World Map - Average Salary by Job Title"
        }
       }
      },
      "text/html": [
       "<div>                            <div id=\"d776815b-3063-42b8-a6d9-d40144abab79\" class=\"plotly-graph-div\" style=\"height:525px; width:100%;\"></div>            <script type=\"text/javascript\">                require([\"plotly\"], function(Plotly) {                    window.PLOTLYENV=window.PLOTLYENV || {};                                    if (document.getElementById(\"d776815b-3063-42b8-a6d9-d40144abab79\")) {                    Plotly.newPlot(                        \"d776815b-3063-42b8-a6d9-d40144abab79\",                        [{\"coloraxis\":\"coloraxis\",\"geo\":\"geo\",\"hovertemplate\":\"<b>%{hovertext}</b><br><br>employee_residence=%{location}<br>Average Salary=%{z}<extra></extra>\",\"hovertext\":[\"Belgium\",\"United States\",\"Bosnia and Herzegovina\",\"Canada\",\"Finland\",\"France\",\"Germany\",\"Italy\",\"Sweden\",\"Ukraine\",\"United States\",\"Croatia\",\"Czech Republic\",\"Portugal\",\"Qatar\",\"Romania\",\"Spain\",\"United Kingdom\",\"United States\",\"Canada\",\"India\",\"Pakistan\",\"South Korea\",\"Portugal\",\"Tunisia\",\"United Kingdom\",\"Australia\",\"Canada\",\"Colombia\",\"Denmark\",\"Germany\",\"Ghana\",\"India\",\"Portugal\",\"South Korea\",\"Spain\",\"Turkey\",\"United States\",\"United States\",\"Argentina\",\"Brazil\",\"Canada\",\"Netherlands\",\"Nigeria\",\"United Kingdom\",\"United States\",\"United Kingdom\",\"Australia\",\"Austria\",\"Germany\",\"Italy\",\"Kenya\",\"United Kingdom\",\"United States\",\"India\",\"United States\",\"Bolivia\",\"France\",\"Germany\",\"Italy\",\"Tunisia\",\"United States\",\"Vietnam\",\"Nigeria\",\"United States\",\"American Samoa\",\"United Kingdom\",\"Mauritius\",\"Netherlands\",\"Brazil\",\"Nigeria\",\"Turkey\",\"United States\",\"Argentina\",\"Australia\",\"Canada\",\"Egypt\",\"France\",\"Germany\",\"India\",\"Kenya\",\"Ukraine\",\"United States\",\"United States\",\"United Kingdom\",\"United States\",\"Canada\",\"United Kingdom\",\"Canada\",\"Moldova\",\"Poland\",\"Spain\",\"Sweden\",\"United Kingdom\",\"United States\",\"Armenia\",\"Canada\",\"Ghana\",\"India\",\"Luxembourg\",\"Philippines\",\"Spain\",\"United States\",\"Canada\",\"United States\",\"Canada\",\"United States\",\"Canada\",\"Ghana\",\"United States\",\"Canada\",\"United Kingdom\",\"United States\",\"United States\",\"United States\",\"United States\",\"Brazil\",\"Germany\",\"Singapore\",\"United Kingdom\",\"United States\",\"Nigeria\",\"United States\",\"Brazil\",\"Denmark\",\"France\",\"India\",\"Russia\",\"United Kingdom\",\"United States\",\"Australia\",\"Denmark\",\"Germany\",\"Netherlands\",\"United States\",\"Canada\",\"Argentina\",\"Australia\",\"Bulgaria\",\"Canada\",\"Central African Republic\",\"China\",\"Colombia\",\"Costa Rica\",\"Croatia\",\"Estonia\",\"France\",\"Germany\",\"Greece\",\"India\",\"Indonesia\",\"Kuwait\",\"Philippines\",\"Poland\",\"Portugal\",\"Singapore\",\"Slovenia\",\"Spain\",\"United Kingdom\",\"United States\",\"Uzbekistan\",\"Belgium\",\"United States\",\"Germany\",\"Pakistan\",\"United States\",\"Vietnam\",\"United Kingdom\",\"United States\",\"Netherlands\",\"United States\",\"United States\",\"Canada\",\"United Kingdom\",\"United States\",\"France\",\"Germany\",\"United States\",\"Argentina\",\"Australia\",\"Austria\",\"Brazil\",\"Canada\",\"Colombia\",\"Estonia\",\"France\",\"Germany\",\"Greece\",\"Hong Kong\",\"India\",\"Ireland\",\"Italy\",\"Lithuania\",\"Malta\",\"Mexico\",\"Netherlands\",\"Pakistan\",\"Peru\",\"Poland\",\"Portugal\",\"Puerto Rico\",\"Romania\",\"Slovenia\",\"South Africa\",\"Spain\",\"Turkey\",\"United Kingdom\",\"United States\",\"United States\",\"United States\",\"Canada\",\"United States\",\"United States\",\"United States\",\"Italy\",\"United States\",\"Canada\",\"Colombia\",\"Mexico\",\"United Kingdom\",\"United States\",\"United Kingdom\",\"United States\",\"United Kingdom\",\"United Kingdom\",\"United States\",\"United States\",\"United States\",\"United States\",\"United States\",\"United Kingdom\",\"United Kingdom\",\"United States\",\"Portugal\",\"United States\",\"France\",\"Germany\",\"Italy\",\"Pakistan\",\"Spain\",\"United Kingdom\",\"United States\",\"United States\",\"Argentina\",\"Canada\",\"Greece\",\"Switzerland\",\"United States\",\"United Kingdom\",\"United States\",\"Australia\",\"Mexico\",\"Philippines\",\"United States\",\"Uzbekistan\",\"United States\",\"United States\",\"Algeria\",\"Andorra\",\"Australia\",\"Austria\",\"Belgium\",\"Brazil\",\"Canada\",\"Cyprus\",\"Dominican Republic\",\"Ecuador\",\"France\",\"Germany\",\"Greece\",\"India\",\"Ireland\",\"Italy\",\"Japan\",\"Latvia\",\"Mexico\",\"Netherlands\",\"Nigeria\",\"Philippines\",\"Poland\",\"Romania\",\"Russia\",\"Serbia\",\"Singapore\",\"Spain\",\"Switzerland\",\"Turkey\",\"United Kingdom\",\"United States\",\"Uzbekistan\",\"Austria\",\"United States\",\"Chile\",\"United States\",\"Canada\",\"United States\",\"United States\",\"United States\",\"United States\",\"United States\",\"United Kingdom\",\"United States\",\"Canada\",\"United Kingdom\",\"United States\",\"Germany\",\"Canada\",\"France\",\"Germany\",\"Italy\",\"Japan\",\"United Kingdom\",\"United States\",\"Greece\",\"United States\",\"United Kingdom\",\"France\",\"Nigeria\",\"United Kingdom\",\"United States\",\"Brazil\",\"Estonia\",\"Malaysia\",\"Portugal\",\"Russia\",\"Slovenia\",\"United Kingdom\",\"United States\",\"Netherlands\",\"Russia\",\"United Kingdom\",\"United States\",\"United States\",\"Portugal\",\"United Kingdom\",\"United States\",\"Canada\",\"New Zealand\",\"Portugal\",\"Puerto Rico\",\"United Kingdom\",\"United States\",\"Ireland\",\"Portugal\",\"Russia\",\"United Arab Emirates\",\"United Kingdom\",\"United States\",\"Germany\",\"Moldova\",\"Portugal\",\"Australia\",\"Canada\",\"Germany\",\"Portugal\",\"United States\",\"Brazil\",\"United States\",\"Canada\",\"Iraq\",\"Italy\",\"Nigeria\",\"Pakistan\",\"Thailand\",\"United States\",\"Armenia\",\"Australia\",\"Belgium\",\"Canada\",\"Colombia\",\"Croatia\",\"Finland\",\"France\",\"Germany\",\"India\",\"Iran\",\"Ireland\",\"Italy\",\"Japan\",\"Latvia\",\"Lithuania\",\"Mexico\",\"Netherlands\",\"Poland\",\"Portugal\",\"Puerto Rico\",\"Slovenia\",\"Spain\",\"Switzerland\",\"Uganda\",\"Ukraine\",\"United Arab Emirates\",\"United Kingdom\",\"United States\",\"France\",\"Portugal\",\"United Kingdom\",\"United States\",\"Canada\",\"Germany\",\"United States\",\"United States\",\"Thailand\",\"France\",\"Germany\",\"Saudi Arabia\",\"United Kingdom\",\"Canada\",\"Ukraine\",\"United States\",\"Canada\",\"Egypt\",\"Italy\",\"Japan\",\"United Kingdom\",\"United States\",\"Canada\",\"United States\",\"France\",\"United States\",\"United States\",\"Greece\",\"United Kingdom\",\"Singapore\",\"India\",\"Italy\",\"Poland\",\"Spain\",\"United States\",\"Poland\",\"Canada\",\"United States\",\"Spain\",\"United States\",\"Germany\",\"Spain\",\"United States\",\"Brazil\",\"India\",\"United States\",\"Georgia\",\"Honduras\",\"United States\",\"Italy\",\"Spain\",\"United Kingdom\",\"United States\",\"France\",\"Germany\",\"Russia\",\"United Kingdom\",\"United States\",\"Austria\",\"Canada\",\"Czech Republic\",\"France\",\"Germany\",\"India\",\"Jersey\",\"Netherlands\",\"Portugal\",\"Spain\",\"United Kingdom\",\"United States\",\"Nigeria\",\"Nigeria\",\"Singapore\",\"United States\",\"Canada\",\"Nigeria\",\"Saudi Arabia\",\"United States\",\"United States\"],\"locationmode\":\"country names\",\"locations\":[\"Belgium\",\"United States\",\"Bosnia and Herzegovina\",\"Canada\",\"Finland\",\"France\",\"Germany\",\"Italy\",\"Sweden\",\"Ukraine\",\"United States\",\"Croatia\",\"Czech Republic\",\"Portugal\",\"Qatar\",\"Romania\",\"Spain\",\"United Kingdom\",\"United States\",\"Canada\",\"India\",\"Pakistan\",\"South Korea\",\"Portugal\",\"Tunisia\",\"United Kingdom\",\"Australia\",\"Canada\",\"Colombia\",\"Denmark\",\"Germany\",\"Ghana\",\"India\",\"Portugal\",\"South Korea\",\"Spain\",\"Turkey\",\"United States\",\"United States\",\"Argentina\",\"Brazil\",\"Canada\",\"Netherlands\",\"Nigeria\",\"United Kingdom\",\"United States\",\"United Kingdom\",\"Australia\",\"Austria\",\"Germany\",\"Italy\",\"Kenya\",\"United Kingdom\",\"United States\",\"India\",\"United States\",\"Bolivia\",\"France\",\"Germany\",\"Italy\",\"Tunisia\",\"United States\",\"Vietnam\",\"Nigeria\",\"United States\",\"American Samoa\",\"United Kingdom\",\"Mauritius\",\"Netherlands\",\"Brazil\",\"Nigeria\",\"Turkey\",\"United States\",\"Argentina\",\"Australia\",\"Canada\",\"Egypt\",\"France\",\"Germany\",\"India\",\"Kenya\",\"Ukraine\",\"United States\",\"United States\",\"United Kingdom\",\"United States\",\"Canada\",\"United Kingdom\",\"Canada\",\"Moldova\",\"Poland\",\"Spain\",\"Sweden\",\"United Kingdom\",\"United States\",\"Armenia\",\"Canada\",\"Ghana\",\"India\",\"Luxembourg\",\"Philippines\",\"Spain\",\"United States\",\"Canada\",\"United States\",\"Canada\",\"United States\",\"Canada\",\"Ghana\",\"United States\",\"Canada\",\"United Kingdom\",\"United States\",\"United States\",\"United States\",\"United States\",\"Brazil\",\"Germany\",\"Singapore\",\"United Kingdom\",\"United States\",\"Nigeria\",\"United States\",\"Brazil\",\"Denmark\",\"France\",\"India\",\"Russia\",\"United Kingdom\",\"United States\",\"Australia\",\"Denmark\",\"Germany\",\"Netherlands\",\"United States\",\"Canada\",\"Argentina\",\"Australia\",\"Bulgaria\",\"Canada\",\"Central African Republic\",\"China\",\"Colombia\",\"Costa Rica\",\"Croatia\",\"Estonia\",\"France\",\"Germany\",\"Greece\",\"India\",\"Indonesia\",\"Kuwait\",\"Philippines\",\"Poland\",\"Portugal\",\"Singapore\",\"Slovenia\",\"Spain\",\"United Kingdom\",\"United States\",\"Uzbekistan\",\"Belgium\",\"United States\",\"Germany\",\"Pakistan\",\"United States\",\"Vietnam\",\"United Kingdom\",\"United States\",\"Netherlands\",\"United States\",\"United States\",\"Canada\",\"United Kingdom\",\"United States\",\"France\",\"Germany\",\"United States\",\"Argentina\",\"Australia\",\"Austria\",\"Brazil\",\"Canada\",\"Colombia\",\"Estonia\",\"France\",\"Germany\",\"Greece\",\"Hong Kong\",\"India\",\"Ireland\",\"Italy\",\"Lithuania\",\"Malta\",\"Mexico\",\"Netherlands\",\"Pakistan\",\"Peru\",\"Poland\",\"Portugal\",\"Puerto Rico\",\"Romania\",\"Slovenia\",\"South Africa\",\"Spain\",\"Turkey\",\"United Kingdom\",\"United States\",\"United States\",\"United States\",\"Canada\",\"United States\",\"United States\",\"United States\",\"Italy\",\"United States\",\"Canada\",\"Colombia\",\"Mexico\",\"United Kingdom\",\"United States\",\"United Kingdom\",\"United States\",\"United Kingdom\",\"United Kingdom\",\"United States\",\"United States\",\"United States\",\"United States\",\"United States\",\"United Kingdom\",\"United Kingdom\",\"United States\",\"Portugal\",\"United States\",\"France\",\"Germany\",\"Italy\",\"Pakistan\",\"Spain\",\"United Kingdom\",\"United States\",\"United States\",\"Argentina\",\"Canada\",\"Greece\",\"Switzerland\",\"United States\",\"United Kingdom\",\"United States\",\"Australia\",\"Mexico\",\"Philippines\",\"United States\",\"Uzbekistan\",\"United States\",\"United States\",\"Algeria\",\"Andorra\",\"Australia\",\"Austria\",\"Belgium\",\"Brazil\",\"Canada\",\"Cyprus\",\"Dominican Republic\",\"Ecuador\",\"France\",\"Germany\",\"Greece\",\"India\",\"Ireland\",\"Italy\",\"Japan\",\"Latvia\",\"Mexico\",\"Netherlands\",\"Nigeria\",\"Philippines\",\"Poland\",\"Romania\",\"Russia\",\"Serbia\",\"Singapore\",\"Spain\",\"Switzerland\",\"Turkey\",\"United Kingdom\",\"United States\",\"Uzbekistan\",\"Austria\",\"United States\",\"Chile\",\"United States\",\"Canada\",\"United States\",\"United States\",\"United States\",\"United States\",\"United States\",\"United Kingdom\",\"United States\",\"Canada\",\"United Kingdom\",\"United States\",\"Germany\",\"Canada\",\"France\",\"Germany\",\"Italy\",\"Japan\",\"United Kingdom\",\"United States\",\"Greece\",\"United States\",\"United Kingdom\",\"France\",\"Nigeria\",\"United Kingdom\",\"United States\",\"Brazil\",\"Estonia\",\"Malaysia\",\"Portugal\",\"Russia\",\"Slovenia\",\"United Kingdom\",\"United States\",\"Netherlands\",\"Russia\",\"United Kingdom\",\"United States\",\"United States\",\"Portugal\",\"United Kingdom\",\"United States\",\"Canada\",\"New Zealand\",\"Portugal\",\"Puerto Rico\",\"United Kingdom\",\"United States\",\"Ireland\",\"Portugal\",\"Russia\",\"United Arab Emirates\",\"United Kingdom\",\"United States\",\"Germany\",\"Moldova\",\"Portugal\",\"Australia\",\"Canada\",\"Germany\",\"Portugal\",\"United States\",\"Brazil\",\"United States\",\"Canada\",\"Iraq\",\"Italy\",\"Nigeria\",\"Pakistan\",\"Thailand\",\"United States\",\"Armenia\",\"Australia\",\"Belgium\",\"Canada\",\"Colombia\",\"Croatia\",\"Finland\",\"France\",\"Germany\",\"India\",\"Iran\",\"Ireland\",\"Italy\",\"Japan\",\"Latvia\",\"Lithuania\",\"Mexico\",\"Netherlands\",\"Poland\",\"Portugal\",\"Puerto Rico\",\"Slovenia\",\"Spain\",\"Switzerland\",\"Uganda\",\"Ukraine\",\"United Arab Emirates\",\"United Kingdom\",\"United States\",\"France\",\"Portugal\",\"United Kingdom\",\"United States\",\"Canada\",\"Germany\",\"United States\",\"United States\",\"Thailand\",\"France\",\"Germany\",\"Saudi Arabia\",\"United Kingdom\",\"Canada\",\"Ukraine\",\"United States\",\"Canada\",\"Egypt\",\"Italy\",\"Japan\",\"United Kingdom\",\"United States\",\"Canada\",\"United States\",\"France\",\"United States\",\"United States\",\"Greece\",\"United Kingdom\",\"Singapore\",\"India\",\"Italy\",\"Poland\",\"Spain\",\"United States\",\"Poland\",\"Canada\",\"United States\",\"Spain\",\"United States\",\"Germany\",\"Spain\",\"United States\",\"Brazil\",\"India\",\"United States\",\"Georgia\",\"Honduras\",\"United States\",\"Italy\",\"Spain\",\"United Kingdom\",\"United States\",\"France\",\"Germany\",\"Russia\",\"United Kingdom\",\"United States\",\"Austria\",\"Canada\",\"Czech Republic\",\"France\",\"Germany\",\"India\",\"Jersey\",\"Netherlands\",\"Portugal\",\"Spain\",\"United Kingdom\",\"United States\",\"Nigeria\",\"Nigeria\",\"Singapore\",\"United States\",\"Canada\",\"Nigeria\",\"Saudi Arabia\",\"United States\",\"United States\"],\"name\":\"\",\"z\":[215936.0,253454.54545454544,120000.0,275000.0,74883.0,161952.0,140358.5,53984.0,80000.0,72666.66666666667,182285.7142857143,35000.0,50000.0,21593.0,300000.0,38868.0,48796.0,204900.0,193594.44444444444,97043.5,70000.0,40000.0,40000.0,24940.0,150000.0,59073.0,81838.0,200000.0,125000.0,45896.0,92390.5,30000.0,200000.0,31520.0,54000.0,46934.0,60000.0,142500.0,258000.0,48000.0,63000.0,134666.66666666666,37573.0,50000.0,156071.68181818182,158018.24215246638,399880.0,53817.5,50000.0,64781.0,29691.0,80000.0,82137.5,238000.0,70179.0,177500.0,75000.0,77119.0,43187.0,97712.0,30469.0,188800.0,38400.0,28000.0,191372.8777777778,45555.0,120000.0,100000.0,100000.0,63000.0,200000.0,18381.0,133789.6,60000.0,49209.0,85000.0,70000.0,105066.0,61236.0,150000.0,50000.0,25000.0,77500.0,60000.0,75592.5,118743.75,99703.0,153799.0,161311.0,18000.0,114047.0,54292.5,130000.0,109024.0,70000.0,17000.0,69133.0,46000.0,50000.0,59102.0,35000.0,50784.5,110111.11111111111,93722.66666666667,129053.4375,67419.0,99000.0,108250.0,15000.0,121086.25,135000.0,43064.0,153187.0,135000.0,144153.0,250000.0,160000.0,100000.0,89294.0,177177.0,155000.0,30000.0,60000.0,21453.5,28609.0,58837.0,90000.0,60000.0,164504.0,215093.33333333334,150000.0,19073.0,95746.0,53984.0,70000.0,118539.0,40000.0,116509.33333333333,80000.0,107254.4827586207,49216.0,125404.0,72000.0,20000.0,92280.0,45130.333333333336,44743.0,53304.75,31182.0,30000.0,15000.0,50000.0,50000.0,69386.66666666667,38193.666666666664,65257.0,42647.0,43788.41176470588,88412.09411764707,114324.25474031328,100000.0,50000.0,113000.0,79197.0,20000.0,122500.0,50000.0,113812.0,405000.0,133000.0,145857.83783783784,95000.0,145150.0,101983.2,167560.09547738693,53984.0,95012.0,103738.16666666667,65000.0,75050.0,74130.0,63000.0,148548.58333333334,87750.0,50529.0,73362.55555555556,88989.54545454546,67631.0,66022.0,18000.0,102569.0,52670.0,94812.0,28369.0,66000.0,58340.0,55108.5,27000.0,39409.333333333336,53892.0,167500.0,51419.0,62081.0,100492.5,72778.23076923077,28016.0,89443.08547008547,154245.12409513962,201375.41666666666,118000.0,100000.0,94341.66666666667,184642.85714285713,56000.0,68293.0,116523.25,125976.0,56500.0,72000.0,68648.83333333333,112941.94262295082,83052.0,132050.0,83052.0,110500.0,88498.75,133431.25,136000.0,55355.0,142750.0,89204.0,43064.0,89898.88888888889,23753.0,131500.0,69741.0,72499.0,24165.0,21000.0,27317.0,60927.5,121724.24242424243,201000.0,60000.0,127221.0,40189.0,104024.0,162715.0,67672.0,180105.05555555556,133766.0,120000.0,107968.0,206800.53012048194,106000.0,144480.0,375000.0,100000.0,50745.0,83171.0,75849.5,68030.5,64477.5,162714.9090909091,63701.0,110000.0,16000.0,54756.6875,71548.0,43931.0,42500.0,107744.8,23790.5,40000.0,58788.25,30000.0,79661.71428571429,50000.0,45760.0,33609.0,53984.0,48000.0,25532.0,119059.0,44938.8679245283,121520.0,26698.333333333332,108949.8552631579,166329.7747957993,40000.0,89306.0,183000.0,105000.0,103053.84615384616,81000.0,97688.125,138750.0,120000.0,122975.0,122275.0,147648.0,167119.44444444444,201702.0,67723.0,218855.0,124163.0,158992.5,57786.0,135936.0,153667.0,168000.0,219934.0,253918.88888888888,52533.0,137154.375,72286.0,323905.0,40000.0,61896.0,90375.0,112500.0,31520.0,200000.0,75577.0,230000.0,102839.0,169180.0,246704.54545454544,131721.0,85000.0,145673.0,224539.2857142857,259000.0,48585.5,47370.0,108333.33333333333,115222.0,125000.0,56000.0,160000.0,103160.0,276000.0,172309.0,29944.0,36000.0,115000.0,61566.0,179622.66666666666,84053.0,115000.0,69344.0,224993.0,185000.0,15966.0,21013.0,200487.8282828283,27568.0,128740.0,76814.0,100000.0,33000.0,60000.0,40000.0,15000.0,180000.0,50000.0,214772.8,85699.0,170826.92307692306,60614.666666666664,45618.0,63040.0,130204.16666666667,146595.85714285713,20000.0,100000.0,68293.0,56609.333333333336,74000.0,58302.5,100410.0,158666.66666666666,79409.0,46597.0,116666.66666666667,167500.0,24823.0,43075.0,80616.5,36000.0,230000.0,92500.0,135953.6923076923,192561.168591224,91772.5,52932.5,122698.5,182360.0,117104.0,129562.0,175000.0,173350.0,60000.0,20000.0,66192.0,90000.0,73824.0,105236.0,50000.0,147166.66666666666,154680.0,22800.0,34672.0,260000.0,155948.33333333334,183381.35483870967,206800.0,215622.22222222222,55000.0,125000.0,300000.0,88654.0,200000.0,66970.0,60000.0,66508.0,44365.0,69909.5,198333.33333333334,64781.0,75000.0,170000.0,91773.0,192500.0,159174.0,86374.0,229500.0,38290.0,160000.0,190000.0,57000.0,20000.0,107733.33333333333,52079.0,49297.0,43064.0,101687.48484848485,141796.66666666666,160835.5,16455.0,87773.2,189350.80916030533,61989.0,148273.0,69999.0,64673.25,105066.5,23000.0,100000.0,63026.5,60757.0,211475.0,166230.75,191087.32510288066,60000.0,50000.0,74883.0,210000.0,44753.0,15000.0,179998.0,134500.0,185000.0],\"type\":\"choropleth\"}],                        {\"template\":{\"data\":{\"histogram2dcontour\":[{\"type\":\"histogram2dcontour\",\"colorbar\":{\"outlinewidth\":0,\"ticks\":\"\"},\"colorscale\":[[0.0,\"#0d0887\"],[0.1111111111111111,\"#46039f\"],[0.2222222222222222,\"#7201a8\"],[0.3333333333333333,\"#9c179e\"],[0.4444444444444444,\"#bd3786\"],[0.5555555555555556,\"#d8576b\"],[0.6666666666666666,\"#ed7953\"],[0.7777777777777778,\"#fb9f3a\"],[0.8888888888888888,\"#fdca26\"],[1.0,\"#f0f921\"]]}],\"choropleth\":[{\"type\":\"choropleth\",\"colorbar\":{\"outlinewidth\":0,\"ticks\":\"\"}}],\"histogram2d\":[{\"type\":\"histogram2d\",\"colorbar\":{\"outlinewidth\":0,\"ticks\":\"\"},\"colorscale\":[[0.0,\"#0d0887\"],[0.1111111111111111,\"#46039f\"],[0.2222222222222222,\"#7201a8\"],[0.3333333333333333,\"#9c179e\"],[0.4444444444444444,\"#bd3786\"],[0.5555555555555556,\"#d8576b\"],[0.6666666666666666,\"#ed7953\"],[0.7777777777777778,\"#fb9f3a\"],[0.8888888888888888,\"#fdca26\"],[1.0,\"#f0f921\"]]}],\"heatmap\":[{\"type\":\"heatmap\",\"colorbar\":{\"outlinewidth\":0,\"ticks\":\"\"},\"colorscale\":[[0.0,\"#0d0887\"],[0.1111111111111111,\"#46039f\"],[0.2222222222222222,\"#7201a8\"],[0.3333333333333333,\"#9c179e\"],[0.4444444444444444,\"#bd3786\"],[0.5555555555555556,\"#d8576b\"],[0.6666666666666666,\"#ed7953\"],[0.7777777777777778,\"#fb9f3a\"],[0.8888888888888888,\"#fdca26\"],[1.0,\"#f0f921\"]]}],\"heatmapgl\":[{\"type\":\"heatmapgl\",\"colorbar\":{\"outlinewidth\":0,\"ticks\":\"\"},\"colorscale\":[[0.0,\"#0d0887\"],[0.1111111111111111,\"#46039f\"],[0.2222222222222222,\"#7201a8\"],[0.3333333333333333,\"#9c179e\"],[0.4444444444444444,\"#bd3786\"],[0.5555555555555556,\"#d8576b\"],[0.6666666666666666,\"#ed7953\"],[0.7777777777777778,\"#fb9f3a\"],[0.8888888888888888,\"#fdca26\"],[1.0,\"#f0f921\"]]}],\"contourcarpet\":[{\"type\":\"contourcarpet\",\"colorbar\":{\"outlinewidth\":0,\"ticks\":\"\"}}],\"contour\":[{\"type\":\"contour\",\"colorbar\":{\"outlinewidth\":0,\"ticks\":\"\"},\"colorscale\":[[0.0,\"#0d0887\"],[0.1111111111111111,\"#46039f\"],[0.2222222222222222,\"#7201a8\"],[0.3333333333333333,\"#9c179e\"],[0.4444444444444444,\"#bd3786\"],[0.5555555555555556,\"#d8576b\"],[0.6666666666666666,\"#ed7953\"],[0.7777777777777778,\"#fb9f3a\"],[0.8888888888888888,\"#fdca26\"],[1.0,\"#f0f921\"]]}],\"surface\":[{\"type\":\"surface\",\"colorbar\":{\"outlinewidth\":0,\"ticks\":\"\"},\"colorscale\":[[0.0,\"#0d0887\"],[0.1111111111111111,\"#46039f\"],[0.2222222222222222,\"#7201a8\"],[0.3333333333333333,\"#9c179e\"],[0.4444444444444444,\"#bd3786\"],[0.5555555555555556,\"#d8576b\"],[0.6666666666666666,\"#ed7953\"],[0.7777777777777778,\"#fb9f3a\"],[0.8888888888888888,\"#fdca26\"],[1.0,\"#f0f921\"]]}],\"mesh3d\":[{\"type\":\"mesh3d\",\"colorbar\":{\"outlinewidth\":0,\"ticks\":\"\"}}],\"scatter\":[{\"fillpattern\":{\"fillmode\":\"overlay\",\"size\":10,\"solidity\":0.2},\"type\":\"scatter\"}],\"parcoords\":[{\"type\":\"parcoords\",\"line\":{\"colorbar\":{\"outlinewidth\":0,\"ticks\":\"\"}}}],\"scatterpolargl\":[{\"type\":\"scatterpolargl\",\"marker\":{\"colorbar\":{\"outlinewidth\":0,\"ticks\":\"\"}}}],\"bar\":[{\"error_x\":{\"color\":\"#2a3f5f\"},\"error_y\":{\"color\":\"#2a3f5f\"},\"marker\":{\"line\":{\"color\":\"#E5ECF6\",\"width\":0.5},\"pattern\":{\"fillmode\":\"overlay\",\"size\":10,\"solidity\":0.2}},\"type\":\"bar\"}],\"scattergeo\":[{\"type\":\"scattergeo\",\"marker\":{\"colorbar\":{\"outlinewidth\":0,\"ticks\":\"\"}}}],\"scatterpolar\":[{\"type\":\"scatterpolar\",\"marker\":{\"colorbar\":{\"outlinewidth\":0,\"ticks\":\"\"}}}],\"histogram\":[{\"marker\":{\"pattern\":{\"fillmode\":\"overlay\",\"size\":10,\"solidity\":0.2}},\"type\":\"histogram\"}],\"scattergl\":[{\"type\":\"scattergl\",\"marker\":{\"colorbar\":{\"outlinewidth\":0,\"ticks\":\"\"}}}],\"scatter3d\":[{\"type\":\"scatter3d\",\"line\":{\"colorbar\":{\"outlinewidth\":0,\"ticks\":\"\"}},\"marker\":{\"colorbar\":{\"outlinewidth\":0,\"ticks\":\"\"}}}],\"scattermapbox\":[{\"type\":\"scattermapbox\",\"marker\":{\"colorbar\":{\"outlinewidth\":0,\"ticks\":\"\"}}}],\"scatterternary\":[{\"type\":\"scatterternary\",\"marker\":{\"colorbar\":{\"outlinewidth\":0,\"ticks\":\"\"}}}],\"scattercarpet\":[{\"type\":\"scattercarpet\",\"marker\":{\"colorbar\":{\"outlinewidth\":0,\"ticks\":\"\"}}}],\"carpet\":[{\"aaxis\":{\"endlinecolor\":\"#2a3f5f\",\"gridcolor\":\"white\",\"linecolor\":\"white\",\"minorgridcolor\":\"white\",\"startlinecolor\":\"#2a3f5f\"},\"baxis\":{\"endlinecolor\":\"#2a3f5f\",\"gridcolor\":\"white\",\"linecolor\":\"white\",\"minorgridcolor\":\"white\",\"startlinecolor\":\"#2a3f5f\"},\"type\":\"carpet\"}],\"table\":[{\"cells\":{\"fill\":{\"color\":\"#EBF0F8\"},\"line\":{\"color\":\"white\"}},\"header\":{\"fill\":{\"color\":\"#C8D4E3\"},\"line\":{\"color\":\"white\"}},\"type\":\"table\"}],\"barpolar\":[{\"marker\":{\"line\":{\"color\":\"#E5ECF6\",\"width\":0.5},\"pattern\":{\"fillmode\":\"overlay\",\"size\":10,\"solidity\":0.2}},\"type\":\"barpolar\"}],\"pie\":[{\"automargin\":true,\"type\":\"pie\"}]},\"layout\":{\"autotypenumbers\":\"strict\",\"colorway\":[\"#636efa\",\"#EF553B\",\"#00cc96\",\"#ab63fa\",\"#FFA15A\",\"#19d3f3\",\"#FF6692\",\"#B6E880\",\"#FF97FF\",\"#FECB52\"],\"font\":{\"color\":\"#2a3f5f\"},\"hovermode\":\"closest\",\"hoverlabel\":{\"align\":\"left\"},\"paper_bgcolor\":\"white\",\"plot_bgcolor\":\"#E5ECF6\",\"polar\":{\"bgcolor\":\"#E5ECF6\",\"angularaxis\":{\"gridcolor\":\"white\",\"linecolor\":\"white\",\"ticks\":\"\"},\"radialaxis\":{\"gridcolor\":\"white\",\"linecolor\":\"white\",\"ticks\":\"\"}},\"ternary\":{\"bgcolor\":\"#E5ECF6\",\"aaxis\":{\"gridcolor\":\"white\",\"linecolor\":\"white\",\"ticks\":\"\"},\"baxis\":{\"gridcolor\":\"white\",\"linecolor\":\"white\",\"ticks\":\"\"},\"caxis\":{\"gridcolor\":\"white\",\"linecolor\":\"white\",\"ticks\":\"\"}},\"coloraxis\":{\"colorbar\":{\"outlinewidth\":0,\"ticks\":\"\"}},\"colorscale\":{\"sequential\":[[0.0,\"#0d0887\"],[0.1111111111111111,\"#46039f\"],[0.2222222222222222,\"#7201a8\"],[0.3333333333333333,\"#9c179e\"],[0.4444444444444444,\"#bd3786\"],[0.5555555555555556,\"#d8576b\"],[0.6666666666666666,\"#ed7953\"],[0.7777777777777778,\"#fb9f3a\"],[0.8888888888888888,\"#fdca26\"],[1.0,\"#f0f921\"]],\"sequentialminus\":[[0.0,\"#0d0887\"],[0.1111111111111111,\"#46039f\"],[0.2222222222222222,\"#7201a8\"],[0.3333333333333333,\"#9c179e\"],[0.4444444444444444,\"#bd3786\"],[0.5555555555555556,\"#d8576b\"],[0.6666666666666666,\"#ed7953\"],[0.7777777777777778,\"#fb9f3a\"],[0.8888888888888888,\"#fdca26\"],[1.0,\"#f0f921\"]],\"diverging\":[[0,\"#8e0152\"],[0.1,\"#c51b7d\"],[0.2,\"#de77ae\"],[0.3,\"#f1b6da\"],[0.4,\"#fde0ef\"],[0.5,\"#f7f7f7\"],[0.6,\"#e6f5d0\"],[0.7,\"#b8e186\"],[0.8,\"#7fbc41\"],[0.9,\"#4d9221\"],[1,\"#276419\"]]},\"xaxis\":{\"gridcolor\":\"white\",\"linecolor\":\"white\",\"ticks\":\"\",\"title\":{\"standoff\":15},\"zerolinecolor\":\"white\",\"automargin\":true,\"zerolinewidth\":2},\"yaxis\":{\"gridcolor\":\"white\",\"linecolor\":\"white\",\"ticks\":\"\",\"title\":{\"standoff\":15},\"zerolinecolor\":\"white\",\"automargin\":true,\"zerolinewidth\":2},\"scene\":{\"xaxis\":{\"backgroundcolor\":\"#E5ECF6\",\"gridcolor\":\"white\",\"linecolor\":\"white\",\"showbackground\":true,\"ticks\":\"\",\"zerolinecolor\":\"white\",\"gridwidth\":2},\"yaxis\":{\"backgroundcolor\":\"#E5ECF6\",\"gridcolor\":\"white\",\"linecolor\":\"white\",\"showbackground\":true,\"ticks\":\"\",\"zerolinecolor\":\"white\",\"gridwidth\":2},\"zaxis\":{\"backgroundcolor\":\"#E5ECF6\",\"gridcolor\":\"white\",\"linecolor\":\"white\",\"showbackground\":true,\"ticks\":\"\",\"zerolinecolor\":\"white\",\"gridwidth\":2}},\"shapedefaults\":{\"line\":{\"color\":\"#2a3f5f\"}},\"annotationdefaults\":{\"arrowcolor\":\"#2a3f5f\",\"arrowhead\":0,\"arrowwidth\":1},\"geo\":{\"bgcolor\":\"white\",\"landcolor\":\"#E5ECF6\",\"subunitcolor\":\"white\",\"showland\":true,\"showlakes\":true,\"lakecolor\":\"white\"},\"title\":{\"x\":0.05},\"mapbox\":{\"style\":\"light\"}}},\"geo\":{\"domain\":{\"x\":[0.0,1.0],\"y\":[0.0,1.0]},\"center\":{},\"projection\":{\"type\":\"natural earth\"},\"showcoastlines\":true},\"coloraxis\":{\"colorbar\":{\"title\":{\"text\":\"Average Salary\"}},\"colorscale\":[[0.0,\"#0d0887\"],[0.1111111111111111,\"#46039f\"],[0.2222222222222222,\"#7201a8\"],[0.3333333333333333,\"#9c179e\"],[0.4444444444444444,\"#bd3786\"],[0.5555555555555556,\"#d8576b\"],[0.6666666666666666,\"#ed7953\"],[0.7777777777777778,\"#fb9f3a\"],[0.8888888888888888,\"#fdca26\"],[1.0,\"#f0f921\"]]},\"legend\":{\"tracegroupgap\":0},\"margin\":{\"t\":60},\"title\":{\"text\":\"World Map - Average Salary by Job Title\"}},                        {\"responsive\": true}                    ).then(function(){\n",
       "                            \n",
       "var gd = document.getElementById('d776815b-3063-42b8-a6d9-d40144abab79');\n",
       "var x = new MutationObserver(function (mutations, observer) {{\n",
       "        var display = window.getComputedStyle(gd).display;\n",
       "        if (!display || display === 'none') {{\n",
       "            console.log([gd, 'removed!']);\n",
       "            Plotly.purge(gd);\n",
       "            observer.disconnect();\n",
       "        }}\n",
       "}});\n",
       "\n",
       "// Listen for the removal of the full notebook cells\n",
       "var notebookContainer = gd.closest('#notebook-container');\n",
       "if (notebookContainer) {{\n",
       "    x.observe(notebookContainer, {childList: true});\n",
       "}}\n",
       "\n",
       "// Listen for the clearing of the current output cell\n",
       "var outputEl = gd.closest('.output');\n",
       "if (outputEl) {{\n",
       "    x.observe(outputEl, {childList: true});\n",
       "}}\n",
       "\n",
       "                        })                };                });            </script>        </div>"
      ]
     },
     "metadata": {},
     "output_type": "display_data"
    },
    {
     "data": {
      "text/plain": [
       "<Figure size 1000x600 with 0 Axes>"
      ]
     },
     "metadata": {},
     "output_type": "display_data"
    }
   ],
   "source": [
    "plt.figure(figsize=(10, 6)) \n",
    "fig = px.choropleth(\n",
    "    df.groupby([\"job_title\", \"employee_residence\"])[\"salary_in_usd\"]\n",
    "    .mean()\n",
    "    .reset_index(name=\"Average Salary\"),\n",
    "    locations=\"employee_residence\",\n",
    "    locationmode=\"country names\",\n",
    "    color=\"Average Salary\",\n",
    "    hover_name=\"employee_residence\",\n",
    "    color_continuous_scale=\"plasma\",\n",
    ")\n",
    "fig.update_geos(projection_type=\"natural earth\", showcoastlines=True)\n",
    "fig.update_layout(title_text=\"World Map - Average Salary by Job Title\")\n",
    "fig.show()"
   ]
  },
  {
   "cell_type": "markdown",
   "id": "20c14573",
   "metadata": {},
   "source": [
    "**Average Salary by Company Size**"
   ]
  },
  {
   "cell_type": "code",
   "execution_count": 87,
   "id": "b22319d3",
   "metadata": {},
   "outputs": [
    {
     "data": {
      "image/png": "[encoded data removed]",
      "text/plain": [
       "<Figure size 1000x600 with 1 Axes>"
      ]
     },
     "metadata": {},
     "output_type": "display_data"
    }
   ],
   "source": [
    "plt.figure(figsize=(10, 6))\n",
    "\n",
    "sns.barplot(data=jobs, x='company_size', y='salary_in_usd')\n",
    "\n",
    "plt.xlabel(\"Company Size\")\n",
    "plt.ylabel(\"Average Salary (USD)\")\n",
    "plt.title(\"Average Salary by Company Size\")\n",
    "\n",
    "plt.show()"
   ]
  },
  {
   "cell_type": "markdown",
   "id": "be2435df",
   "metadata": {},
   "source": [
    "**Relationship Between Experience Level, Salary, and Employment Type**"
   ]
  },
  {
   "cell_type": "code",
   "execution_count": 89,
   "id": "44dbc46b",
   "metadata": {},
   "outputs": [
    {
     "data": {
      "image/png": "[encoded data removed]",
      "text/plain": [
       "<Figure size 1000x600 with 1 Axes>"
      ]
     },
     "metadata": {},
     "output_type": "display_data"
    }
   ],
   "source": [
    "plt.figure(figsize=(10, 6))\n",
    "\n",
    "# Create a scatter plot with color-coded points based on 'employment_type'\n",
    "sns.scatterplot(data=jobs, x='experience_level', y='salary_in_usd', hue='employment_type', palette='Set1')\n",
    "\n",
    "plt.xlabel(\"Experience Level\")\n",
    "plt.ylabel(\"Salary (USD)\")\n",
    "plt.title(\"Relationship Between Experience Level, Salary, and Employment Type\")\n",
    "\n",
    "# Add a legend to identify employment types\n",
    "plt.legend(title='Employment Type')\n",
    "\n",
    "plt.show()"
   ]
  },
  {
   "cell_type": "markdown",
   "id": "9b9b5bf1",
   "metadata": {},
   "source": [
    "**Experience Level Distribution by Job Category**"
   ]
  },
  {
   "cell_type": "code",
   "execution_count": 97,
   "id": "7aebc56f",
   "metadata": {},
   "outputs": [
    {
     "data": {
      "image/png": "[encoded data removed]",
      "text/plain": [
       "<Figure size 1200x600 with 1 Axes>"
      ]
     },
     "metadata": {},
     "output_type": "display_data"
    }
   ],
   "source": [
    "plt.figure(figsize=(12, 6))\n",
    "\n",
    "# Create a countplot to visualize experience levels grouped by job categories\n",
    "sns.countplot(data=jobs, x='experience_level', hue='job_category', palette='Set1')\n",
    "\n",
    "plt.xlabel(\"Experience Level\")\n",
    "plt.ylabel(\"Count\")\n",
    "plt.title(\"Experience Level Distribution by Job Category\")\n",
    "\n",
    "# Rotate x-axis labels for better readability (optional)\n",
    "plt.xticks(rotation=45)\n",
    "\n",
    "# Add a legend to identify job categories\n",
    "plt.legend(title='Job Category')\n",
    "\n",
    "plt.show()"
   ]
  },
  {
   "cell_type": "markdown",
   "id": "7281b1f0",
   "metadata": {},
   "source": [
    "**Relation between salary and JobCategory**"
   ]
  },
  {
   "cell_type": "code",
   "execution_count": 126,
   "id": "4fdf3208",
   "metadata": {},
   "outputs": [
    {
     "data": {
      "text/plain": [
       "Text(0.5, 1.0, 'Job Category and salary')"
      ]
     },
     "execution_count": 126,
     "metadata": {},
     "output_type": "execute_result"
    },
    {
     "data": {
      "image/png": "[encoded data removed]",
      "text/plain": [
       "<Figure size 640x480 with 1 Axes>"
      ]
     },
     "metadata": {},
     "output_type": "display_data"
    }
   ],
   "source": [
    "sns.boxplot(data=df,y='salary',x='job_category')\n",
    "plt.xticks(rotation='vertical')\n",
    "plt.title(\"Job Category and salary\")"
   ]
  },
  {
   "cell_type": "markdown",
   "id": "f9d3c0df",
   "metadata": {},
   "source": [
    "**Work settings with job category**"
   ]
  },
  {
   "cell_type": "code",
   "execution_count": 143,
   "id": "8e1a5201",
   "metadata": {},
   "outputs": [
    {
     "data": {
      "text/html": [
       "<div>\n",
       "<style scoped>\n",
       "    .dataframe tbody tr th:only-of-type {\n",
       "        vertical-align: middle;\n",
       "    }\n",
       "\n",
       "    .dataframe tbody tr th {\n",
       "        vertical-align: top;\n",
       "    }\n",
       "\n",
       "    .dataframe thead th {\n",
       "        text-align: right;\n",
       "    }\n",
       "</style>\n",
       "<table border=\"1\" class=\"dataframe\">\n",
       "  <thead>\n",
       "    <tr style=\"text-align: right;\">\n",
       "      <th></th>\n",
       "      <th>work_setting</th>\n",
       "      <th>job_category</th>\n",
       "      <th>count</th>\n",
       "    </tr>\n",
       "  </thead>\n",
       "  <tbody>\n",
       "    <tr>\n",
       "      <th>0</th>\n",
       "      <td>Hybrid</td>\n",
       "      <td>BI and Visualization</td>\n",
       "      <td>1</td>\n",
       "    </tr>\n",
       "    <tr>\n",
       "      <th>1</th>\n",
       "      <td>Hybrid</td>\n",
       "      <td>Data Analysis</td>\n",
       "      <td>29</td>\n",
       "    </tr>\n",
       "    <tr>\n",
       "      <th>2</th>\n",
       "      <td>Hybrid</td>\n",
       "      <td>Data Architecture and Modeling</td>\n",
       "      <td>2</td>\n",
       "    </tr>\n",
       "    <tr>\n",
       "      <th>3</th>\n",
       "      <td>Hybrid</td>\n",
       "      <td>Data Engineering</td>\n",
       "      <td>31</td>\n",
       "    </tr>\n",
       "    <tr>\n",
       "      <th>4</th>\n",
       "      <td>Hybrid</td>\n",
       "      <td>Data Quality and Operations</td>\n",
       "      <td>1</td>\n",
       "    </tr>\n",
       "    <tr>\n",
       "      <th>5</th>\n",
       "      <td>Hybrid</td>\n",
       "      <td>Data Science and Research</td>\n",
       "      <td>80</td>\n",
       "    </tr>\n",
       "    <tr>\n",
       "      <th>6</th>\n",
       "      <td>Hybrid</td>\n",
       "      <td>Leadership and Management</td>\n",
       "      <td>4</td>\n",
       "    </tr>\n",
       "    <tr>\n",
       "      <th>7</th>\n",
       "      <td>Hybrid</td>\n",
       "      <td>Machine Learning and AI</td>\n",
       "      <td>43</td>\n",
       "    </tr>\n",
       "    <tr>\n",
       "      <th>8</th>\n",
       "      <td>In-person</td>\n",
       "      <td>BI and Visualization</td>\n",
       "      <td>226</td>\n",
       "    </tr>\n",
       "    <tr>\n",
       "      <th>9</th>\n",
       "      <td>In-person</td>\n",
       "      <td>Data Analysis</td>\n",
       "      <td>794</td>\n",
       "    </tr>\n",
       "    <tr>\n",
       "      <th>10</th>\n",
       "      <td>In-person</td>\n",
       "      <td>Data Architecture and Modeling</td>\n",
       "      <td>124</td>\n",
       "    </tr>\n",
       "    <tr>\n",
       "      <th>11</th>\n",
       "      <td>In-person</td>\n",
       "      <td>Data Engineering</td>\n",
       "      <td>1406</td>\n",
       "    </tr>\n",
       "    <tr>\n",
       "      <th>12</th>\n",
       "      <td>In-person</td>\n",
       "      <td>Data Management and Strategy</td>\n",
       "      <td>37</td>\n",
       "    </tr>\n",
       "    <tr>\n",
       "      <th>13</th>\n",
       "      <td>In-person</td>\n",
       "      <td>Data Quality and Operations</td>\n",
       "      <td>34</td>\n",
       "    </tr>\n",
       "    <tr>\n",
       "      <th>14</th>\n",
       "      <td>In-person</td>\n",
       "      <td>Data Science and Research</td>\n",
       "      <td>1870</td>\n",
       "    </tr>\n",
       "    <tr>\n",
       "      <th>15</th>\n",
       "      <td>In-person</td>\n",
       "      <td>Leadership and Management</td>\n",
       "      <td>323</td>\n",
       "    </tr>\n",
       "    <tr>\n",
       "      <th>16</th>\n",
       "      <td>In-person</td>\n",
       "      <td>Machine Learning and AI</td>\n",
       "      <td>916</td>\n",
       "    </tr>\n",
       "    <tr>\n",
       "      <th>17</th>\n",
       "      <td>Remote</td>\n",
       "      <td>BI and Visualization</td>\n",
       "      <td>86</td>\n",
       "    </tr>\n",
       "    <tr>\n",
       "      <th>18</th>\n",
       "      <td>Remote</td>\n",
       "      <td>Cloud and Database</td>\n",
       "      <td>5</td>\n",
       "    </tr>\n",
       "    <tr>\n",
       "      <th>19</th>\n",
       "      <td>Remote</td>\n",
       "      <td>Data Analysis</td>\n",
       "      <td>634</td>\n",
       "    </tr>\n",
       "    <tr>\n",
       "      <th>20</th>\n",
       "      <td>Remote</td>\n",
       "      <td>Data Architecture and Modeling</td>\n",
       "      <td>133</td>\n",
       "    </tr>\n",
       "    <tr>\n",
       "      <th>21</th>\n",
       "      <td>Remote</td>\n",
       "      <td>Data Engineering</td>\n",
       "      <td>823</td>\n",
       "    </tr>\n",
       "    <tr>\n",
       "      <th>22</th>\n",
       "      <td>Remote</td>\n",
       "      <td>Data Management and Strategy</td>\n",
       "      <td>24</td>\n",
       "    </tr>\n",
       "    <tr>\n",
       "      <th>23</th>\n",
       "      <td>Remote</td>\n",
       "      <td>Data Quality and Operations</td>\n",
       "      <td>20</td>\n",
       "    </tr>\n",
       "    <tr>\n",
       "      <th>24</th>\n",
       "      <td>Remote</td>\n",
       "      <td>Data Science and Research</td>\n",
       "      <td>1064</td>\n",
       "    </tr>\n",
       "    <tr>\n",
       "      <th>25</th>\n",
       "      <td>Remote</td>\n",
       "      <td>Leadership and Management</td>\n",
       "      <td>176</td>\n",
       "    </tr>\n",
       "    <tr>\n",
       "      <th>26</th>\n",
       "      <td>Remote</td>\n",
       "      <td>Machine Learning and AI</td>\n",
       "      <td>469</td>\n",
       "    </tr>\n",
       "  </tbody>\n",
       "</table>\n",
       "</div>"
      ],
      "text/plain": [
       "   work_setting                    job_category  count\n",
       "0        Hybrid            BI and Visualization      1\n",
       "1        Hybrid                   Data Analysis     29\n",
       "2        Hybrid  Data Architecture and Modeling      2\n",
       "3        Hybrid                Data Engineering     31\n",
       "4        Hybrid     Data Quality and Operations      1\n",
       "5        Hybrid       Data Science and Research     80\n",
       "6        Hybrid       Leadership and Management      4\n",
       "7        Hybrid         Machine Learning and AI     43\n",
       "8     In-person            BI and Visualization    226\n",
       "9     In-person                   Data Analysis    794\n",
       "10    In-person  Data Architecture and Modeling    124\n",
       "11    In-person                Data Engineering   1406\n",
       "12    In-person    Data Management and Strategy     37\n",
       "13    In-person     Data Quality and Operations     34\n",
       "14    In-person       Data Science and Research   1870\n",
       "15    In-person       Leadership and Management    323\n",
       "16    In-person         Machine Learning and AI    916\n",
       "17       Remote            BI and Visualization     86\n",
       "18       Remote              Cloud and Database      5\n",
       "19       Remote                   Data Analysis    634\n",
       "20       Remote  Data Architecture and Modeling    133\n",
       "21       Remote                Data Engineering    823\n",
       "22       Remote    Data Management and Strategy     24\n",
       "23       Remote     Data Quality and Operations     20\n",
       "24       Remote       Data Science and Research   1064\n",
       "25       Remote       Leadership and Management    176\n",
       "26       Remote         Machine Learning and AI    469"
      ]
     },
     "execution_count": 143,
     "metadata": {},
     "output_type": "execute_result"
    }
   ],
   "source": [
    "filtered_data = jobs[jobs['work_setting'].isin(['Hybrid', 'In-person', 'Remote'])]\n",
    "count_worksetting = filtered_data.groupby(['work_setting', 'job_category']).size().reset_index(name='count')\n",
    "count_worksetting"
   ]
  },
  {
   "cell_type": "code",
   "execution_count": 169,
   "id": "6e961853",
   "metadata": {},
   "outputs": [
    {
     "data": {
      "application/vnd.plotly.v1+json": {
       "config": {
        "plotlyServerURL": "https://plot.ly"
       },
       "data": [
        {
         "branchvalues": "total",
         "customdata": [
          [
           1
          ],
          [
           226
          ],
          [
           86
          ],
          [
           5
          ],
          [
           29
          ],
          [
           794
          ],
          [
           634
          ],
          [
           2
          ],
          [
           124
          ],
          [
           133
          ],
          [
           31
          ],
          [
           1406
          ],
          [
           823
          ],
          [
           37
          ],
          [
           24
          ],
          [
           1
          ],
          [
           34
          ],
          [
           20
          ],
          [
           80
          ],
          [
           1870
          ],
          [
           1064
          ],
          [
           4
          ],
          [
           323
          ],
          [
           176
          ],
          [
           43
          ],
          [
           916
          ],
          [
           469
          ],
          [
           "(?)"
          ],
          [
           "(?)"
          ],
          [
           "(?)"
          ]
         ],
         "domain": {
          "x": [
           0,
           1
          ],
          "y": [
           0,
           1
          ]
         },
         "hovertemplate": "<b>%{label}</b><br>Percentage: %{value:.2f}%<br>Total Count: %{customdata}",
         "ids": [
          "Hybrid/BI and Visualization",
          "In-person/BI and Visualization",
          "Remote/BI and Visualization",
          "Remote/Cloud and Database",
          "Hybrid/Data Analysis",
          "In-person/Data Analysis",
          "Remote/Data Analysis",
          "Hybrid/Data Architecture and Modeling",
          "In-person/Data Architecture and Modeling",
          "Remote/Data Architecture and Modeling",
          "Hybrid/Data Engineering",
          "In-person/Data Engineering",
          "Remote/Data Engineering",
          "In-person/Data Management and Strategy",
          "Remote/Data Management and Strategy",
          "Hybrid/Data Quality and Operations",
          "In-person/Data Quality and Operations",
          "Remote/Data Quality and Operations",
          "Hybrid/Data Science and Research",
          "In-person/Data Science and Research",
          "Remote/Data Science and Research",
          "Hybrid/Leadership and Management",
          "In-person/Leadership and Management",
          "Remote/Leadership and Management",
          "Hybrid/Machine Learning and AI",
          "In-person/Machine Learning and AI",
          "Remote/Machine Learning and AI",
          "Hybrid",
          "In-person",
          "Remote"
         ],
         "labels": [
          "BI and Visualization",
          "BI and Visualization",
          "BI and Visualization",
          "Cloud and Database",
          "Data Analysis",
          "Data Analysis",
          "Data Analysis",
          "Data Architecture and Modeling",
          "Data Architecture and Modeling",
          "Data Architecture and Modeling",
          "Data Engineering",
          "Data Engineering",
          "Data Engineering",
          "Data Management and Strategy",
          "Data Management and Strategy",
          "Data Quality and Operations",
          "Data Quality and Operations",
          "Data Quality and Operations",
          "Data Science and Research",
          "Data Science and Research",
          "Data Science and Research",
          "Leadership and Management",
          "Leadership and Management",
          "Leadership and Management",
          "Machine Learning and AI",
          "Machine Learning and AI",
          "Machine Learning and AI",
          "Hybrid",
          "In-person",
          "Remote"
         ],
         "name": "",
         "parents": [
          "Hybrid",
          "In-person",
          "Remote",
          "Remote",
          "Hybrid",
          "In-person",
          "Remote",
          "Hybrid",
          "In-person",
          "Remote",
          "Hybrid",
          "In-person",
          "Remote",
          "In-person",
          "Remote",
          "Hybrid",
          "In-person",
          "Remote",
          "Hybrid",
          "In-person",
          "Remote",
          "Hybrid",
          "In-person",
          "Remote",
          "Hybrid",
          "In-person",
          "Remote",
          "",
          "",
          ""
         ],
         "type": "sunburst",
         "values": [
          0.010689470871191877,
          2.415820416889364,
          0.9192944949225013,
          0.053447354355959376,
          0.30999465526456443,
          8.48743987172635,
          6.777124532335649,
          0.021378941742383754,
          1.3254943880277927,
          1.4216996258685195,
          0.3313735970069482,
          15.029396044895776,
          8.797434526990914,
          0.3955104222340994,
          0.256547300908605,
          0.010689470871191877,
          0.3634420096205238,
          0.2137894174238375,
          0.85515766969535,
          19.989310529128808,
          11.373597006948156,
          0.04275788348476751,
          3.4526990913949756,
          1.88134687332977,
          0.45964724746125063,
          9.79155531801176,
          5.01336183858899,
          2.041688936397648,
          61.25066809192945,
          36.707642971672904
         ]
        }
       ],
       "layout": {
        "height": 800,
        "legend": {
         "tracegroupgap": 0
        },
        "margin": {
         "t": 60
        },
        "template": {
         "data": {
          "bar": [
           {
            "error_x": {
             "color": "#2a3f5f"
            },
            "error_y": {
             "color": "#2a3f5f"
            },
            "marker": {
             "line": {
              "color": "#E5ECF6",
              "width": 0.5
             },
             "pattern": {
              "fillmode": "overlay",
              "size": 10,
              "solidity": 0.2
             }
            },
            "type": "bar"
           }
          ],
          "barpolar": [
           {
            "marker": {
             "line": {
              "color": "#E5ECF6",
              "width": 0.5
             },
             "pattern": {
              "fillmode": "overlay",
              "size": 10,
              "solidity": 0.2
             }
            },
            "type": "barpolar"
           }
          ],
          "carpet": [
           {
            "aaxis": {
             "endlinecolor": "#2a3f5f",
             "gridcolor": "white",
             "linecolor": "white",
             "minorgridcolor": "white",
             "startlinecolor": "#2a3f5f"
            },
            "baxis": {
             "endlinecolor": "#2a3f5f",
             "gridcolor": "white",
             "linecolor": "white",
             "minorgridcolor": "white",
             "startlinecolor": "#2a3f5f"
            },
            "type": "carpet"
           }
          ],
          "choropleth": [
           {
            "colorbar": {
             "outlinewidth": 0,
             "ticks": ""
            },
            "type": "choropleth"
           }
          ],
          "contour": [
           {
            "colorbar": {
             "outlinewidth": 0,
             "ticks": ""
            },
            "colorscale": [
             [
              0,
              "#0d0887"
             ],
             [
              0.1111111111111111,
              "#46039f"
             ],
             [
              0.2222222222222222,
              "#7201a8"
             ],
             [
              0.3333333333333333,
              "#9c179e"
             ],
             [
              0.4444444444444444,
              "#bd3786"
             ],
             [
              0.5555555555555556,
              "#d8576b"
             ],
             [
              0.6666666666666666,
              "#ed7953"
             ],
             [
              0.7777777777777778,
              "#fb9f3a"
             ],
             [
              0.8888888888888888,
              "#fdca26"
             ],
             [
              1,
              "#f0f921"
             ]
            ],
            "type": "contour"
           }
          ],
          "contourcarpet": [
           {
            "colorbar": {
             "outlinewidth": 0,
             "ticks": ""
            },
            "type": "contourcarpet"
           }
          ],
          "heatmap": [
           {
            "colorbar": {
             "outlinewidth": 0,
             "ticks": ""
            },
            "colorscale": [
             [
              0,
              "#0d0887"
             ],
             [
              0.1111111111111111,
              "#46039f"
             ],
             [
              0.2222222222222222,
              "#7201a8"
             ],
             [
              0.3333333333333333,
              "#9c179e"
             ],
             [
              0.4444444444444444,
              "#bd3786"
             ],
             [
              0.5555555555555556,
              "#d8576b"
             ],
             [
              0.6666666666666666,
              "#ed7953"
             ],
             [
              0.7777777777777778,
              "#fb9f3a"
             ],
             [
              0.8888888888888888,
              "#fdca26"
             ],
             [
              1,
              "#f0f921"
             ]
            ],
            "type": "heatmap"
           }
          ],
          "heatmapgl": [
           {
            "colorbar": {
             "outlinewidth": 0,
             "ticks": ""
            },
            "colorscale": [
             [
              0,
              "#0d0887"
             ],
             [
              0.1111111111111111,
              "#46039f"
             ],
             [
              0.2222222222222222,
              "#7201a8"
             ],
             [
              0.3333333333333333,
              "#9c179e"
             ],
             [
              0.4444444444444444,
              "#bd3786"
             ],
             [
              0.5555555555555556,
              "#d8576b"
             ],
             [
              0.6666666666666666,
              "#ed7953"
             ],
             [
              0.7777777777777778,
              "#fb9f3a"
             ],
             [
              0.8888888888888888,
              "#fdca26"
             ],
             [
              1,
              "#f0f921"
             ]
            ],
            "type": "heatmapgl"
           }
          ],
          "histogram": [
           {
            "marker": {
             "pattern": {
              "fillmode": "overlay",
              "size": 10,
              "solidity": 0.2
             }
            },
            "type": "histogram"
           }
          ],
          "histogram2d": [
           {
            "colorbar": {
             "outlinewidth": 0,
             "ticks": ""
            },
            "colorscale": [
             [
              0,
              "#0d0887"
             ],
             [
              0.1111111111111111,
              "#46039f"
             ],
             [
              0.2222222222222222,
              "#7201a8"
             ],
             [
              0.3333333333333333,
              "#9c179e"
             ],
             [
              0.4444444444444444,
              "#bd3786"
             ],
             [
              0.5555555555555556,
              "#d8576b"
             ],
             [
              0.6666666666666666,
              "#ed7953"
             ],
             [
              0.7777777777777778,
              "#fb9f3a"
             ],
             [
              0.8888888888888888,
              "#fdca26"
             ],
             [
              1,
              "#f0f921"
             ]
            ],
            "type": "histogram2d"
           }
          ],
          "histogram2dcontour": [
           {
            "colorbar": {
             "outlinewidth": 0,
             "ticks": ""
            },
            "colorscale": [
             [
              0,
              "#0d0887"
             ],
             [
              0.1111111111111111,
              "#46039f"
             ],
             [
              0.2222222222222222,
              "#7201a8"
             ],
             [
              0.3333333333333333,
              "#9c179e"
             ],
             [
              0.4444444444444444,
              "#bd3786"
             ],
             [
              0.5555555555555556,
              "#d8576b"
             ],
             [
              0.6666666666666666,
              "#ed7953"
             ],
             [
              0.7777777777777778,
              "#fb9f3a"
             ],
             [
              0.8888888888888888,
              "#fdca26"
             ],
             [
              1,
              "#f0f921"
             ]
            ],
            "type": "histogram2dcontour"
           }
          ],
          "mesh3d": [
           {
            "colorbar": {
             "outlinewidth": 0,
             "ticks": ""
            },
            "type": "mesh3d"
           }
          ],
          "parcoords": [
           {
            "line": {
             "colorbar": {
              "outlinewidth": 0,
              "ticks": ""
             }
            },
            "type": "parcoords"
           }
          ],
          "pie": [
           {
            "automargin": true,
            "type": "pie"
           }
          ],
          "scatter": [
           {
            "fillpattern": {
             "fillmode": "overlay",
             "size": 10,
             "solidity": 0.2
            },
            "type": "scatter"
           }
          ],
          "scatter3d": [
           {
            "line": {
             "colorbar": {
              "outlinewidth": 0,
              "ticks": ""
             }
            },
            "marker": {
             "colorbar": {
              "outlinewidth": 0,
              "ticks": ""
             }
            },
            "type": "scatter3d"
           }
          ],
          "scattercarpet": [
           {
            "marker": {
             "colorbar": {
              "outlinewidth": 0,
              "ticks": ""
             }
            },
            "type": "scattercarpet"
           }
          ],
          "scattergeo": [
           {
            "marker": {
             "colorbar": {
              "outlinewidth": 0,
              "ticks": ""
             }
            },
            "type": "scattergeo"
           }
          ],
          "scattergl": [
           {
            "marker": {
             "colorbar": {
              "outlinewidth": 0,
              "ticks": ""
             }
            },
            "type": "scattergl"
           }
          ],
          "scattermapbox": [
           {
            "marker": {
             "colorbar": {
              "outlinewidth": 0,
              "ticks": ""
             }
            },
            "type": "scattermapbox"
           }
          ],
          "scatterpolar": [
           {
            "marker": {
             "colorbar": {
              "outlinewidth": 0,
              "ticks": ""
             }
            },
            "type": "scatterpolar"
           }
          ],
          "scatterpolargl": [
           {
            "marker": {
             "colorbar": {
              "outlinewidth": 0,
              "ticks": ""
             }
            },
            "type": "scatterpolargl"
           }
          ],
          "scatterternary": [
           {
            "marker": {
             "colorbar": {
              "outlinewidth": 0,
              "ticks": ""
             }
            },
            "type": "scatterternary"
           }
          ],
          "surface": [
           {
            "colorbar": {
             "outlinewidth": 0,
             "ticks": ""
            },
            "colorscale": [
             [
              0,
              "#0d0887"
             ],
             [
              0.1111111111111111,
              "#46039f"
             ],
             [
              0.2222222222222222,
              "#7201a8"
             ],
             [
              0.3333333333333333,
              "#9c179e"
             ],
             [
              0.4444444444444444,
              "#bd3786"
             ],
             [
              0.5555555555555556,
              "#d8576b"
             ],
             [
              0.6666666666666666,
              "#ed7953"
             ],
             [
              0.7777777777777778,
              "#fb9f3a"
             ],
             [
              0.8888888888888888,
              "#fdca26"
             ],
             [
              1,
              "#f0f921"
             ]
            ],
            "type": "surface"
           }
          ],
          "table": [
           {
            "cells": {
             "fill": {
              "color": "#EBF0F8"
             },
             "line": {
              "color": "white"
             }
            },
            "header": {
             "fill": {
              "color": "#C8D4E3"
             },
             "line": {
              "color": "white"
             }
            },
            "type": "table"
           }
          ]
         },
         "layout": {
          "annotationdefaults": {
           "arrowcolor": "#2a3f5f",
           "arrowhead": 0,
           "arrowwidth": 1
          },
          "autotypenumbers": "strict",
          "coloraxis": {
           "colorbar": {
            "outlinewidth": 0,
            "ticks": ""
           }
          },
          "colorscale": {
           "diverging": [
            [
             0,
             "#8e0152"
            ],
            [
             0.1,
             "#c51b7d"
            ],
            [
             0.2,
             "#de77ae"
            ],
            [
             0.3,
             "#f1b6da"
            ],
            [
             0.4,
             "#fde0ef"
            ],
            [
             0.5,
             "#f7f7f7"
            ],
            [
             0.6,
             "#e6f5d0"
            ],
            [
             0.7,
             "#b8e186"
            ],
            [
             0.8,
             "#7fbc41"
            ],
            [
             0.9,
             "#4d9221"
            ],
            [
             1,
             "#276419"
            ]
           ],
           "sequential": [
            [
             0,
             "#0d0887"
            ],
            [
             0.1111111111111111,
             "#46039f"
            ],
            [
             0.2222222222222222,
             "#7201a8"
            ],
            [
             0.3333333333333333,
             "#9c179e"
            ],
            [
             0.4444444444444444,
             "#bd3786"
            ],
            [
             0.5555555555555556,
             "#d8576b"
            ],
            [
             0.6666666666666666,
             "#ed7953"
            ],
            [
             0.7777777777777778,
             "#fb9f3a"
            ],
            [
             0.8888888888888888,
             "#fdca26"
            ],
            [
             1,
             "#f0f921"
            ]
           ],
           "sequentialminus": [
            [
             0,
             "#0d0887"
            ],
            [
             0.1111111111111111,
             "#46039f"
            ],
            [
             0.2222222222222222,
             "#7201a8"
            ],
            [
             0.3333333333333333,
             "#9c179e"
            ],
            [
             0.4444444444444444,
             "#bd3786"
            ],
            [
             0.5555555555555556,
             "#d8576b"
            ],
            [
             0.6666666666666666,
             "#ed7953"
            ],
            [
             0.7777777777777778,
             "#fb9f3a"
            ],
            [
             0.8888888888888888,
             "#fdca26"
            ],
            [
             1,
             "#f0f921"
            ]
           ]
          },
          "colorway": [
           "#636efa",
           "#EF553B",
           "#00cc96",
           "#ab63fa",
           "#FFA15A",
           "#19d3f3",
           "#FF6692",
           "#B6E880",
           "#FF97FF",
           "#FECB52"
          ],
          "font": {
           "color": "#2a3f5f"
          },
          "geo": {
           "bgcolor": "white",
           "lakecolor": "white",
           "landcolor": "#E5ECF6",
           "showlakes": true,
           "showland": true,
           "subunitcolor": "white"
          },
          "hoverlabel": {
           "align": "left"
          },
          "hovermode": "closest",
          "mapbox": {
           "style": "light"
          },
          "paper_bgcolor": "white",
          "plot_bgcolor": "#E5ECF6",
          "polar": {
           "angularaxis": {
            "gridcolor": "white",
            "linecolor": "white",
            "ticks": ""
           },
           "bgcolor": "#E5ECF6",
           "radialaxis": {
            "gridcolor": "white",
            "linecolor": "white",
            "ticks": ""
           }
          },
          "scene": {
           "xaxis": {
            "backgroundcolor": "#E5ECF6",
            "gridcolor": "white",
            "gridwidth": 2,
            "linecolor": "white",
            "showbackground": true,
            "ticks": "",
            "zerolinecolor": "white"
           },
           "yaxis": {
            "backgroundcolor": "#E5ECF6",
            "gridcolor": "white",
            "gridwidth": 2,
            "linecolor": "white",
            "showbackground": true,
            "ticks": "",
            "zerolinecolor": "white"
           },
           "zaxis": {
            "backgroundcolor": "#E5ECF6",
            "gridcolor": "white",
            "gridwidth": 2,
            "linecolor": "white",
            "showbackground": true,
            "ticks": "",
            "zerolinecolor": "white"
           }
          },
          "shapedefaults": {
           "line": {
            "color": "#2a3f5f"
           }
          },
          "ternary": {
           "aaxis": {
            "gridcolor": "white",
            "linecolor": "white",
            "ticks": ""
           },
           "baxis": {
            "gridcolor": "white",
            "linecolor": "white",
            "ticks": ""
           },
           "bgcolor": "#E5ECF6",
           "caxis": {
            "gridcolor": "white",
            "linecolor": "white",
            "ticks": ""
           }
          },
          "title": {
           "x": 0.05
          },
          "xaxis": {
           "automargin": true,
           "gridcolor": "white",
           "linecolor": "white",
           "ticks": "",
           "title": {
            "standoff": 15
           },
           "zerolinecolor": "white",
           "zerolinewidth": 2
          },
          "yaxis": {
           "automargin": true,
           "gridcolor": "white",
           "linecolor": "white",
           "ticks": "",
           "title": {
            "standoff": 15
           },
           "zerolinecolor": "white",
           "zerolinewidth": 2
          }
         }
        },
        "title": {
         "text": "Hierarchy Sunburst Chart of Work Settings and Job Categories"
        },
        "width": 800
       }
      },
      "text/html": [
       "<div>                            <div id=\"c0509b0b-bec7-4dfb-8528-3ff3dd6c774f\" class=\"plotly-graph-div\" style=\"height:800px; width:800px;\"></div>            <script type=\"text/javascript\">                require([\"plotly\"], function(Plotly) {                    window.PLOTLYENV=window.PLOTLYENV || {};                                    if (document.getElementById(\"c0509b0b-bec7-4dfb-8528-3ff3dd6c774f\")) {                    Plotly.newPlot(                        \"c0509b0b-bec7-4dfb-8528-3ff3dd6c774f\",                        [{\"branchvalues\":\"total\",\"customdata\":[[1],[226],[86],[5],[29],[794],[634],[2],[124],[133],[31],[1406],[823],[37],[24],[1],[34],[20],[80],[1870],[1064],[4],[323],[176],[43],[916],[469],[\"(?)\"],[\"(?)\"],[\"(?)\"]],\"domain\":{\"x\":[0.0,1.0],\"y\":[0.0,1.0]},\"hovertemplate\":\"<b>%{label}</b><br>Percentage: %{value:.2f}%<br>Total Count: %{customdata}\",\"ids\":[\"Hybrid/BI and Visualization\",\"In-person/BI and Visualization\",\"Remote/BI and Visualization\",\"Remote/Cloud and Database\",\"Hybrid/Data Analysis\",\"In-person/Data Analysis\",\"Remote/Data Analysis\",\"Hybrid/Data Architecture and Modeling\",\"In-person/Data Architecture and Modeling\",\"Remote/Data Architecture and Modeling\",\"Hybrid/Data Engineering\",\"In-person/Data Engineering\",\"Remote/Data Engineering\",\"In-person/Data Management and Strategy\",\"Remote/Data Management and Strategy\",\"Hybrid/Data Quality and Operations\",\"In-person/Data Quality and Operations\",\"Remote/Data Quality and Operations\",\"Hybrid/Data Science and Research\",\"In-person/Data Science and Research\",\"Remote/Data Science and Research\",\"Hybrid/Leadership and Management\",\"In-person/Leadership and Management\",\"Remote/Leadership and Management\",\"Hybrid/Machine Learning and AI\",\"In-person/Machine Learning and AI\",\"Remote/Machine Learning and AI\",\"Hybrid\",\"In-person\",\"Remote\"],\"labels\":[\"BI and Visualization\",\"BI and Visualization\",\"BI and Visualization\",\"Cloud and Database\",\"Data Analysis\",\"Data Analysis\",\"Data Analysis\",\"Data Architecture and Modeling\",\"Data Architecture and Modeling\",\"Data Architecture and Modeling\",\"Data Engineering\",\"Data Engineering\",\"Data Engineering\",\"Data Management and Strategy\",\"Data Management and Strategy\",\"Data Quality and Operations\",\"Data Quality and Operations\",\"Data Quality and Operations\",\"Data Science and Research\",\"Data Science and Research\",\"Data Science and Research\",\"Leadership and Management\",\"Leadership and Management\",\"Leadership and Management\",\"Machine Learning and AI\",\"Machine Learning and AI\",\"Machine Learning and AI\",\"Hybrid\",\"In-person\",\"Remote\"],\"name\":\"\",\"parents\":[\"Hybrid\",\"In-person\",\"Remote\",\"Remote\",\"Hybrid\",\"In-person\",\"Remote\",\"Hybrid\",\"In-person\",\"Remote\",\"Hybrid\",\"In-person\",\"Remote\",\"In-person\",\"Remote\",\"Hybrid\",\"In-person\",\"Remote\",\"Hybrid\",\"In-person\",\"Remote\",\"Hybrid\",\"In-person\",\"Remote\",\"Hybrid\",\"In-person\",\"Remote\",\"\",\"\",\"\"],\"values\":[0.010689470871191877,2.415820416889364,0.9192944949225013,0.053447354355959376,0.30999465526456443,8.48743987172635,6.777124532335649,0.021378941742383754,1.3254943880277927,1.4216996258685195,0.3313735970069482,15.029396044895776,8.797434526990914,0.3955104222340994,0.256547300908605,0.010689470871191877,0.3634420096205238,0.2137894174238375,0.85515766969535,19.989310529128808,11.373597006948156,0.04275788348476751,3.4526990913949756,1.88134687332977,0.45964724746125063,9.79155531801176,5.01336183858899,2.041688936397648,61.25066809192945,36.707642971672904],\"type\":\"sunburst\"}],                        {\"template\":{\"data\":{\"histogram2dcontour\":[{\"type\":\"histogram2dcontour\",\"colorbar\":{\"outlinewidth\":0,\"ticks\":\"\"},\"colorscale\":[[0.0,\"#0d0887\"],[0.1111111111111111,\"#46039f\"],[0.2222222222222222,\"#7201a8\"],[0.3333333333333333,\"#9c179e\"],[0.4444444444444444,\"#bd3786\"],[0.5555555555555556,\"#d8576b\"],[0.6666666666666666,\"#ed7953\"],[0.7777777777777778,\"#fb9f3a\"],[0.8888888888888888,\"#fdca26\"],[1.0,\"#f0f921\"]]}],\"choropleth\":[{\"type\":\"choropleth\",\"colorbar\":{\"outlinewidth\":0,\"ticks\":\"\"}}],\"histogram2d\":[{\"type\":\"histogram2d\",\"colorbar\":{\"outlinewidth\":0,\"ticks\":\"\"},\"colorscale\":[[0.0,\"#0d0887\"],[0.1111111111111111,\"#46039f\"],[0.2222222222222222,\"#7201a8\"],[0.3333333333333333,\"#9c179e\"],[0.4444444444444444,\"#bd3786\"],[0.5555555555555556,\"#d8576b\"],[0.6666666666666666,\"#ed7953\"],[0.7777777777777778,\"#fb9f3a\"],[0.8888888888888888,\"#fdca26\"],[1.0,\"#f0f921\"]]}],\"heatmap\":[{\"type\":\"heatmap\",\"colorbar\":{\"outlinewidth\":0,\"ticks\":\"\"},\"colorscale\":[[0.0,\"#0d0887\"],[0.1111111111111111,\"#46039f\"],[0.2222222222222222,\"#7201a8\"],[0.3333333333333333,\"#9c179e\"],[0.4444444444444444,\"#bd3786\"],[0.5555555555555556,\"#d8576b\"],[0.6666666666666666,\"#ed7953\"],[0.7777777777777778,\"#fb9f3a\"],[0.8888888888888888,\"#fdca26\"],[1.0,\"#f0f921\"]]}],\"heatmapgl\":[{\"type\":\"heatmapgl\",\"colorbar\":{\"outlinewidth\":0,\"ticks\":\"\"},\"colorscale\":[[0.0,\"#0d0887\"],[0.1111111111111111,\"#46039f\"],[0.2222222222222222,\"#7201a8\"],[0.3333333333333333,\"#9c179e\"],[0.4444444444444444,\"#bd3786\"],[0.5555555555555556,\"#d8576b\"],[0.6666666666666666,\"#ed7953\"],[0.7777777777777778,\"#fb9f3a\"],[0.8888888888888888,\"#fdca26\"],[1.0,\"#f0f921\"]]}],\"contourcarpet\":[{\"type\":\"contourcarpet\",\"colorbar\":{\"outlinewidth\":0,\"ticks\":\"\"}}],\"contour\":[{\"type\":\"contour\",\"colorbar\":{\"outlinewidth\":0,\"ticks\":\"\"},\"colorscale\":[[0.0,\"#0d0887\"],[0.1111111111111111,\"#46039f\"],[0.2222222222222222,\"#7201a8\"],[0.3333333333333333,\"#9c179e\"],[0.4444444444444444,\"#bd3786\"],[0.5555555555555556,\"#d8576b\"],[0.6666666666666666,\"#ed7953\"],[0.7777777777777778,\"#fb9f3a\"],[0.8888888888888888,\"#fdca26\"],[1.0,\"#f0f921\"]]}],\"surface\":[{\"type\":\"surface\",\"colorbar\":{\"outlinewidth\":0,\"ticks\":\"\"},\"colorscale\":[[0.0,\"#0d0887\"],[0.1111111111111111,\"#46039f\"],[0.2222222222222222,\"#7201a8\"],[0.3333333333333333,\"#9c179e\"],[0.4444444444444444,\"#bd3786\"],[0.5555555555555556,\"#d8576b\"],[0.6666666666666666,\"#ed7953\"],[0.7777777777777778,\"#fb9f3a\"],[0.8888888888888888,\"#fdca26\"],[1.0,\"#f0f921\"]]}],\"mesh3d\":[{\"type\":\"mesh3d\",\"colorbar\":{\"outlinewidth\":0,\"ticks\":\"\"}}],\"scatter\":[{\"fillpattern\":{\"fillmode\":\"overlay\",\"size\":10,\"solidity\":0.2},\"type\":\"scatter\"}],\"parcoords\":[{\"type\":\"parcoords\",\"line\":{\"colorbar\":{\"outlinewidth\":0,\"ticks\":\"\"}}}],\"scatterpolargl\":[{\"type\":\"scatterpolargl\",\"marker\":{\"colorbar\":{\"outlinewidth\":0,\"ticks\":\"\"}}}],\"bar\":[{\"error_x\":{\"color\":\"#2a3f5f\"},\"error_y\":{\"color\":\"#2a3f5f\"},\"marker\":{\"line\":{\"color\":\"#E5ECF6\",\"width\":0.5},\"pattern\":{\"fillmode\":\"overlay\",\"size\":10,\"solidity\":0.2}},\"type\":\"bar\"}],\"scattergeo\":[{\"type\":\"scattergeo\",\"marker\":{\"colorbar\":{\"outlinewidth\":0,\"ticks\":\"\"}}}],\"scatterpolar\":[{\"type\":\"scatterpolar\",\"marker\":{\"colorbar\":{\"outlinewidth\":0,\"ticks\":\"\"}}}],\"histogram\":[{\"marker\":{\"pattern\":{\"fillmode\":\"overlay\",\"size\":10,\"solidity\":0.2}},\"type\":\"histogram\"}],\"scattergl\":[{\"type\":\"scattergl\",\"marker\":{\"colorbar\":{\"outlinewidth\":0,\"ticks\":\"\"}}}],\"scatter3d\":[{\"type\":\"scatter3d\",\"line\":{\"colorbar\":{\"outlinewidth\":0,\"ticks\":\"\"}},\"marker\":{\"colorbar\":{\"outlinewidth\":0,\"ticks\":\"\"}}}],\"scattermapbox\":[{\"type\":\"scattermapbox\",\"marker\":{\"colorbar\":{\"outlinewidth\":0,\"ticks\":\"\"}}}],\"scatterternary\":[{\"type\":\"scatterternary\",\"marker\":{\"colorbar\":{\"outlinewidth\":0,\"ticks\":\"\"}}}],\"scattercarpet\":[{\"type\":\"scattercarpet\",\"marker\":{\"colorbar\":{\"outlinewidth\":0,\"ticks\":\"\"}}}],\"carpet\":[{\"aaxis\":{\"endlinecolor\":\"#2a3f5f\",\"gridcolor\":\"white\",\"linecolor\":\"white\",\"minorgridcolor\":\"white\",\"startlinecolor\":\"#2a3f5f\"},\"baxis\":{\"endlinecolor\":\"#2a3f5f\",\"gridcolor\":\"white\",\"linecolor\":\"white\",\"minorgridcolor\":\"white\",\"startlinecolor\":\"#2a3f5f\"},\"type\":\"carpet\"}],\"table\":[{\"cells\":{\"fill\":{\"color\":\"#EBF0F8\"},\"line\":{\"color\":\"white\"}},\"header\":{\"fill\":{\"color\":\"#C8D4E3\"},\"line\":{\"color\":\"white\"}},\"type\":\"table\"}],\"barpolar\":[{\"marker\":{\"line\":{\"color\":\"#E5ECF6\",\"width\":0.5},\"pattern\":{\"fillmode\":\"overlay\",\"size\":10,\"solidity\":0.2}},\"type\":\"barpolar\"}],\"pie\":[{\"automargin\":true,\"type\":\"pie\"}]},\"layout\":{\"autotypenumbers\":\"strict\",\"colorway\":[\"#636efa\",\"#EF553B\",\"#00cc96\",\"#ab63fa\",\"#FFA15A\",\"#19d3f3\",\"#FF6692\",\"#B6E880\",\"#FF97FF\",\"#FECB52\"],\"font\":{\"color\":\"#2a3f5f\"},\"hovermode\":\"closest\",\"hoverlabel\":{\"align\":\"left\"},\"paper_bgcolor\":\"white\",\"plot_bgcolor\":\"#E5ECF6\",\"polar\":{\"bgcolor\":\"#E5ECF6\",\"angularaxis\":{\"gridcolor\":\"white\",\"linecolor\":\"white\",\"ticks\":\"\"},\"radialaxis\":{\"gridcolor\":\"white\",\"linecolor\":\"white\",\"ticks\":\"\"}},\"ternary\":{\"bgcolor\":\"#E5ECF6\",\"aaxis\":{\"gridcolor\":\"white\",\"linecolor\":\"white\",\"ticks\":\"\"},\"baxis\":{\"gridcolor\":\"white\",\"linecolor\":\"white\",\"ticks\":\"\"},\"caxis\":{\"gridcolor\":\"white\",\"linecolor\":\"white\",\"ticks\":\"\"}},\"coloraxis\":{\"colorbar\":{\"outlinewidth\":0,\"ticks\":\"\"}},\"colorscale\":{\"sequential\":[[0.0,\"#0d0887\"],[0.1111111111111111,\"#46039f\"],[0.2222222222222222,\"#7201a8\"],[0.3333333333333333,\"#9c179e\"],[0.4444444444444444,\"#bd3786\"],[0.5555555555555556,\"#d8576b\"],[0.6666666666666666,\"#ed7953\"],[0.7777777777777778,\"#fb9f3a\"],[0.8888888888888888,\"#fdca26\"],[1.0,\"#f0f921\"]],\"sequentialminus\":[[0.0,\"#0d0887\"],[0.1111111111111111,\"#46039f\"],[0.2222222222222222,\"#7201a8\"],[0.3333333333333333,\"#9c179e\"],[0.4444444444444444,\"#bd3786\"],[0.5555555555555556,\"#d8576b\"],[0.6666666666666666,\"#ed7953\"],[0.7777777777777778,\"#fb9f3a\"],[0.8888888888888888,\"#fdca26\"],[1.0,\"#f0f921\"]],\"diverging\":[[0,\"#8e0152\"],[0.1,\"#c51b7d\"],[0.2,\"#de77ae\"],[0.3,\"#f1b6da\"],[0.4,\"#fde0ef\"],[0.5,\"#f7f7f7\"],[0.6,\"#e6f5d0\"],[0.7,\"#b8e186\"],[0.8,\"#7fbc41\"],[0.9,\"#4d9221\"],[1,\"#276419\"]]},\"xaxis\":{\"gridcolor\":\"white\",\"linecolor\":\"white\",\"ticks\":\"\",\"title\":{\"standoff\":15},\"zerolinecolor\":\"white\",\"automargin\":true,\"zerolinewidth\":2},\"yaxis\":{\"gridcolor\":\"white\",\"linecolor\":\"white\",\"ticks\":\"\",\"title\":{\"standoff\":15},\"zerolinecolor\":\"white\",\"automargin\":true,\"zerolinewidth\":2},\"scene\":{\"xaxis\":{\"backgroundcolor\":\"#E5ECF6\",\"gridcolor\":\"white\",\"linecolor\":\"white\",\"showbackground\":true,\"ticks\":\"\",\"zerolinecolor\":\"white\",\"gridwidth\":2},\"yaxis\":{\"backgroundcolor\":\"#E5ECF6\",\"gridcolor\":\"white\",\"linecolor\":\"white\",\"showbackground\":true,\"ticks\":\"\",\"zerolinecolor\":\"white\",\"gridwidth\":2},\"zaxis\":{\"backgroundcolor\":\"#E5ECF6\",\"gridcolor\":\"white\",\"linecolor\":\"white\",\"showbackground\":true,\"ticks\":\"\",\"zerolinecolor\":\"white\",\"gridwidth\":2}},\"shapedefaults\":{\"line\":{\"color\":\"#2a3f5f\"}},\"annotationdefaults\":{\"arrowcolor\":\"#2a3f5f\",\"arrowhead\":0,\"arrowwidth\":1},\"geo\":{\"bgcolor\":\"white\",\"landcolor\":\"#E5ECF6\",\"subunitcolor\":\"white\",\"showland\":true,\"showlakes\":true,\"lakecolor\":\"white\"},\"title\":{\"x\":0.05},\"mapbox\":{\"style\":\"light\"}}},\"legend\":{\"tracegroupgap\":0},\"margin\":{\"t\":60},\"title\":{\"text\":\"Hierarchy Sunburst Chart of Work Settings and Job Categories\"},\"width\":800,\"height\":800},                        {\"responsive\": true}                    ).then(function(){\n",
       "                            \n",
       "var gd = document.getElementById('c0509b0b-bec7-4dfb-8528-3ff3dd6c774f');\n",
       "var x = new MutationObserver(function (mutations, observer) {{\n",
       "        var display = window.getComputedStyle(gd).display;\n",
       "        if (!display || display === 'none') {{\n",
       "            console.log([gd, 'removed!']);\n",
       "            Plotly.purge(gd);\n",
       "            observer.disconnect();\n",
       "        }}\n",
       "}});\n",
       "\n",
       "// Listen for the removal of the full notebook cells\n",
       "var notebookContainer = gd.closest('#notebook-container');\n",
       "if (notebookContainer) {{\n",
       "    x.observe(notebookContainer, {childList: true});\n",
       "}}\n",
       "\n",
       "// Listen for the clearing of the current output cell\n",
       "var outputEl = gd.closest('.output');\n",
       "if (outputEl) {{\n",
       "    x.observe(outputEl, {childList: true});\n",
       "}}\n",
       "\n",
       "                        })                };                });            </script>        </div>"
      ]
     },
     "metadata": {},
     "output_type": "display_data"
    }
   ],
   "source": [
    "import plotly.express as px\n",
    "\n",
    "total_count = count_worksetting.groupby('work_setting')['count'].sum().reset_index()\n",
    "total_count['percentage'] = (total_count['count'] / total_count['count'].sum()) * 100\n",
    "\n",
    "# Create a sunburst chart\n",
    "fig = px.sunburst(count_worksetting, path=['work_setting', 'job_category'], values='percentage',hover_data=['count'],)\n",
    "\n",
    "# Customize the appearance and layout if needed\n",
    "fig.update_layout(title=\"Hierarchy Sunburst Chart of Work Settings and Job Categories\",\n",
    "                     width=800,\n",
    "                     height=800,\n",
    "                 )\n",
    "# Define custom hover text\n",
    "fig.update_traces(\n",
    "    hovertemplate='<b>%{label}</b><br>Percentage: %{value:.2f}%<br>Total Count: %{customdata}',\n",
    ")\n",
    "# Show the chart\n",
    "fig.show()"
   ]
  }
 ],
 "metadata": {
  "kernelspec": {
   "display_name": "Python 3 (ipykernel)",
   "language": "python",
   "name": "python3"
  },
  "language_info": {
   "codemirror_mode": {
    "name": "ipython",
    "version": 3
   },
   "file_extension": ".py",
   "mimetype": "text/x-python",
   "name": "python",
   "nbconvert_exporter": "python",
   "pygments_lexer": "ipython3",
   "version": "3.11.4"
  }
 },
 "nbformat": 4,
 "nbformat_minor": 5
}
